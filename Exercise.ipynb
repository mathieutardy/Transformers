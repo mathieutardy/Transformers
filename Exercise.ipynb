{
 "cells": [
  {
   "cell_type": "code",
   "execution_count": 38,
   "metadata": {
    "id": "rhfU41hHEn8Z"
   },
   "outputs": [],
   "source": [
    "!pip install datasets\n",
    "!pip install sacrerouge sacrebleu bert-score\n",
    "\n",
    "!pip install sentencepiece\n",
    "!git clone https://github.com/huggingface/transformers.git\n",
    "!pip install ./transformers/.\n",
    "\n",
    "!pip install mosestokenizer"
   ]
  },
  {
   "cell_type": "code",
   "execution_count": 39,
   "metadata": {
    "id": "jH7L4BxrtFkV"
   },
   "outputs": [],
   "source": [
    "!sudo apt-get install --reinstall libxml-libxml-perl\n",
    "!sacrerouge setup-metric rouge"
   ]
  },
  {
   "cell_type": "markdown",
   "metadata": {
    "id": "h8sdvF17Bvjj"
   },
   "source": [
    "**Task 1**"
   ]
  },
  {
   "cell_type": "markdown",
   "metadata": {
    "id": "PDU2YhdmCESf"
   },
   "source": [
    "# **Deliverable 1.1 : T5 model**"
   ]
  },
  {
   "cell_type": "code",
   "execution_count": null,
   "metadata": {
    "id": "jtSpRWIxCScr"
   },
   "outputs": [],
   "source": [
    "from transformers import T5ForConditionalGeneration, T5Tokenizer, AutoModelForSeq2SeqLM\n",
    "from sklearn.model_selection import train_test_split\n",
    "\n",
    "model = T5ForConditionalGeneration.from_pretrained('t5-small').to('cuda')\n",
    "tokenizer = T5Tokenizer.from_pretrained('t5-small')\n",
    "\n",
    "import torch\n",
    "torch.cuda.empty_cache()\n",
    "\n",
    "from datasets import load_dataset"
   ]
  },
  {
   "cell_type": "markdown",
   "metadata": {
    "id": "69Yfw4SpCUAT"
   },
   "source": [
    "## **Bible para dataset for translation**"
   ]
  },
  {
   "cell_type": "code",
   "execution_count": null,
   "metadata": {
    "id": "FN1fQu5PCaeQ"
   },
   "outputs": [],
   "source": [
    "prefix = \"translate English to French: \"\n",
    "lang1 = 'en'\n",
    "lang2 = 'fr'\n",
    "test_size = 0.1\n",
    "dataset_size = 100\n",
    "\n",
    "def create_batch(dataset, lang1=lang1, lang2=lang2, tokenizer=tokenizer, prefix=prefix, max_len=512):\n",
    "  batch_input = [prefix + i[lang1] for i in dataset]\n",
    "  batch_output = [i[lang2] for i in dataset]\n",
    "  input_encodings = tokenizer.batch_encode_plus(batch_input, padding=True, max_length=max_len, truncation=True, return_tensors=\"pt\").input_ids\n",
    "  target_encodings = tokenizer.batch_encode_plus(batch_output, padding=True, max_length=max_len, truncation=True, return_tensors=\"pt\").input_ids\n",
    "  return batch_input, batch_output, input_encodings.to('cuda'), target_encodings.to('cuda')\n",
    "\n",
    "bible_para = load_dataset('bible_para', lang1=lang1, lang2=lang2)['train']['translation']\n",
    "\n",
    "train_set, test_set = train_test_split(bible_para, test_size=0.1)\n",
    "test_set = test_set[:dataset_size]\n",
    "\n",
    "test_input_bible, test_target_bible, test_input_encodings_bible, test_output_encodings_bible = create_batch(test_set)"
   ]
  },
  {
   "cell_type": "code",
   "execution_count": 52,
   "metadata": {
    "colab": {
     "base_uri": "https://localhost:8080/"
    },
    "id": "G0EEnH4eCaUw",
    "outputId": "e6ede2c8-3ca5-476a-e6f7-c0b2fb63b741"
   },
   "outputs": [
    {
     "name": "stdout",
     "output_type": "stream",
     "text": [
      "source:\t translate English to French: In the beginning God created the heavens and the earth.\n",
      "target:\tAu commencement, Dieu créa les cieux et la terre.\n",
      "generated\tAu début, Dieu créa les cieux et la terre.\n",
      "------\n",
      "\n",
      "source:\t translate English to French: Now the earth was formless and empty. Darkness was on the surface of the deep. God's Spirit was hovering over the surface of the waters.\n",
      "target:\tLa terre était informe et vide: il y avait des ténèbres à la surface de l`abîme, et l`esprit de Dieu se mouvait au-dessus des eaux.\n",
      "generated\tMaintenant, la terre était sans forme et vide, la fébrilité était sur la surface du profond, l'Esprit de Dieu a établi un arrière-plan sur la surface des eaux.\n",
      "------\n",
      "\n",
      "source:\t translate English to French: God said, \"Let there be light,\" and there was light.\n",
      "target:\tDieu dit: Que la lumière soit! Et la lumière fut.\n",
      "generated\tDieu disait : « La lumière ne s'en trouve pas », et il y a de la lumière.\n",
      "------\n",
      "\n",
      "source:\t translate English to French: God saw the light, and saw that it was good. God divided the light from the darkness.\n",
      "target:\tDieu vit que la lumière était bonne; et Dieu sépara la lumière d`avec les ténèbres.\n",
      "generated\tDieu a vu la lumière, et a vu qu'elle était bonne, Dieu a divisé la lumière de l'obscurité.\n",
      "------\n",
      "\n",
      "source:\t translate English to French: God called the light \"day,\" and the darkness he called \"night.\" There was evening and there was morning, one day.\n",
      "target:\tDieu appela la lumière jour, et il appela les ténèbres nuit. Ainsi, il y eut un soir, et il y eut un matin: ce fut le premier jour.\n",
      "generated\tDieu a appelé la lumière «jour» et l'obscurité qu'il a appelée «no».\n",
      "------\n",
      "\n"
     ]
    }
   ],
   "source": [
    "# test bible dataset\n",
    "result_bible = model.generate(test_input_encodings_bible, max_length=512)\n",
    "model_output_decoded_bible = tokenizer.batch_decode(result_bible, skip_special_tokens=True)\n",
    "i=0\n",
    "for input, prediction, true in zip(test_input_bible, model_output_decoded_bible, test_target_bible):\n",
    "  print(\"source:\\t {}\\ntarget:\\t{}\\ngenerated\\t{}\\n------\\n\".format(input,true,prediction, model_prediction))\n",
    "  i+=1\n",
    "  if i == 5:\n",
    "    break"
   ]
  },
  {
   "cell_type": "markdown",
   "metadata": {
    "id": "v2Ubs76FCfsz"
   },
   "source": [
    "## **Xsum dataset for summarization**"
   ]
  },
  {
   "cell_type": "code",
   "execution_count": null,
   "metadata": {
    "id": "5uCkqXR-CnNN"
   },
   "outputs": [],
   "source": [
    "prefix = \"summarize :\"\n",
    "dataset_size = 100\n",
    "\n",
    "def create_batch(dataset, dataset_size=dataset_size, prefix=prefix, tokenizer=tokenizer, max_len=512):\n",
    "    batch_input = [prefix + elt for elt in dataset['document'][:dataset_size]]\n",
    "    batch_output = [elt for elt in dataset['summary'][:dataset_size]]\n",
    "    input_encodings = tokenizer.batch_encode_plus(batch_input, padding=True, max_length=max_len, truncation=True, return_tensors=\"pt\").input_ids\n",
    "    target_encodings = tokenizer.batch_encode_plus(batch_output, padding=True, max_length=max_len, truncation=True, return_tensors=\"pt\").input_ids\n",
    "    return batch_input, batch_output, input_encodings.to('cuda'), target_encodings\n",
    "\n",
    "xsum = load_dataset('xsum')\n",
    "train_set = xsum['train']\n",
    "test_set = xsum['test']\n",
    "\n",
    "test_set = test_set[:dataset_size]\n",
    "\n",
    "test_input_cnn, test_target_cnn, test_input_encodings_cnn, test_output_encodings_cnn = create_batch(test_set)"
   ]
  },
  {
   "cell_type": "code",
   "execution_count": 54,
   "metadata": {
    "colab": {
     "base_uri": "https://localhost:8080/"
    },
    "id": "ZI2PTgeXCsv7",
    "outputId": "2224d816-6e40-40f9-b717-7505e04f0ed8"
   },
   "outputs": [
    {
     "name": "stdout",
     "output_type": "stream",
     "text": [
      "source:\t summarize :Fast forward about 20 years, and it's fair to say he has done just that.\n",
      "The business he runs, Frasers Hospitality, is one of the world's biggest providers of high-end serviced apartments. Its 148 properties span about 80 capital cities, as well as financial hubs across Europe, Asia, the Middle East and Africa.\n",
      "But it almost didn't get off the ground.\n",
      "When Mr Choe was appointed to launch and lead the company, Asia was booming; the tiger economies of Hong Kong, South Korea, Taiwan and Singapore were expanding rapidly.\n",
      "But as Frasers prepared to open its first two properties in Singapore, the Asian financial crisis hit.\n",
      "It was 1997. Currencies went into freefall. Suddenly, people were losing their jobs and stopped travelling.\n",
      "Mr Choe recalls asking staff if they really wanted to continue working with the firm, because when the properties opened they might not get paid.\n",
      "\"It was really that serious,\" he says. \"I remember tearing up because they said 'let's open it, let's open it whether you can pay us or not'.\"\n",
      "Survival, Mr Choe admits, came through a bit of luck, and the misfortune of others.\n",
      "He had convinced the board at parent firm, property group Frasers Centrepoint, to open serviced apartments rather than hotels - partly because getting planning permission in Singapore was easier.\n",
      "But he also sensed it was a big, untapped market. And at the time of the crisis, it proved to be exactly what customers wanted.\n",
      "\"As we were going through this difficult patch, there were protests and riots in Jakarta,\" he says. \"A lot of companies like Microsoft called up looking for rooms for their staff because they were moving out of Jakarta.\"\n",
      "Frasers' 412 apartments were quickly in demand. Occupancy soon hit 70%, and then 90%.\n",
      "Explaining the popularity of serviced apartments, Mr Choe says that if people are staying somewhere for just a few days, they happily stay in hotels, but if they are going to be somewhere for one month to eight months, the walls of hotel rooms \"close in on you\".\n",
      "But now, Mr Choe, 57, faces new challenges - the travel tastes of millennials and the disruptive nature of Airbnb.\n",
      "\"The way to tackle Airbnb is not to ignore it. I will never underestimate Airbnb,\" he says.\n",
      "There's been no significant impact on Frasers yet. Big corporations still prefer to put employees in big service apartments, he says, because they can guarantee a level of safety and security. But that is likely to change, Mr Choe admits.\n",
      "\"I have two daughters who to my chagrin use Airbnb,\" he says. \"We took a family trip to Florence and I stayed in this wonderful boutique hotel, but paid a bundle for it.\n",
      "\"When my daughter joined us, she said, 'I'm just staying next door and paying about 80 euros'. We paid about 330 euros.\n",
      "\"I asked why they stayed at Airbnb. They say 'it's like a surprise, it's part of the adventure'.\"\n",
      "And so now, Mr Choe wants to bring some of that vibrancy to Frasers.\n",
      "While neutral colours, beige curtains and dark wooden chairs dominate its more traditional apartments, many customers want something different, and this is shaping Fraser's strategy.\n",
      "In 2015 it bought Malmaison Hotel du Vin, a UK hotel group that specialises in developing heritage properties into upscale boutique hotels.\n",
      "That has taken them beyond financial centres, including to Shakespeare's hometown of Stratford-upon-Avon. Or, an intrepid traveller with $500 (Â£325) to spend could have a night in a converted medieval prison in Oxford.\n",
      "And Frasers has launched the Capri sub-brand - whose website promises \"inspiring art and inspirational tech\".\n",
      "On a day-to-day basis Mr Choe says he still draws on his experience as a young man, who - having been given a scholarship by the Shangri-La hotel group to study at Cornell University in the US - came back to Asia to learn about the hospitality industry.\n",
      "\"They put me in every department conceivable. I remember one of the toughest jobs I had was in the butchery. I had to carve an entire cow. For one month, I could not eat meat.\n",
      "\"I'm thankful for those experiences. When you step into a hotel, you immediately pick up what works and what doesn't work.\n",
      "\"When I see the check-in staff walking more than three steps, I know the counter is set up wrong.\n",
      "\"It's like a cockpit. Can you imagine if the pilot had to turn around when he flies?\"\n",
      "More The Boss features, which every week profile a different business leader from around the world:\n",
      "The 'diva of divorce' for the world's super rich\n",
      "The snacks boss with an appetite for success\n",
      "Taking his own path: The world's leading maze designer\n",
      "Mr Choe adds that loyalty is very important to him, and he remains tremendously grateful to staff who have stayed with him.\n",
      "\"I will always respect and remember those who gave up their jobs to join me,\" he says.\n",
      "This loyalty is something that Mr Choe has earned, according to Donald MacLaurin, associate professor at Singapore Institute of Technology, and specialist in the hospitality sector.\n",
      "Mr MacLaurin points out that Mr Choe introduced a five-day working week, in a part of the world where six days is common, thereby showing \"a focus on quality of life issues for employees\".\n",
      "The associate professor adds says the early success of the business was remarkable given the timing of its launch.\n",
      "Fast forward to today and the company is now on track to operate 30,000 serviced apartments globally by 2019. That success, say Mr Choe's admirers, should make him something of a visionary.\n",
      "Follow The Boss series editor Will Smale on Twitter.\n",
      "target:\tOn the first day in his new job, Choe Peng Sum was given a fairly simple brief: \"Just go make us a lot of money.\"\n",
      "generated\tyes\n",
      "------\n",
      "\n",
      "source:\t summarize :\"The accident meant the motorway was closed, making travel to Mourneview Park impossible for the team and fans travelling from Belfast,\" said the Irish Football Association.\n",
      "A new date for the match has yet to be confirmed by Uefa.\n",
      "Northern Ireland have three points from their first two Group Six qualifiers.\n",
      "target:\tThe Women's Euro 2017 qualifier between Northern Ireland and the Czech Republic in Lurgan on Friday was postponed after a serious accident on the M1.\n",
      "generated\tno travel to the park was made possible for the team and fans. no match has been confirmed.\n",
      "------\n",
      "\n",
      "source:\t summarize :The Sunday Times says the missile veered off course during a test in June last year - weeks before the Commons voted to spend £40bn renewing Trident.\n",
      "Questioned by Andrew Marr, the PM refused to say four times if she had known about the test ahead of the vote.\n",
      "The SNP's Nicola Sturgeon called for a \"full disclosure\" of what happened.\n",
      "According to the Sunday Times, an unarmed Trident II D5 missile veered off in the wrong direction towards the US - instead of towards Africa - when it was launched from a British submarine off the coast of Florida.\n",
      "In July - days after Mrs May had become prime minister - MPs voted overwhelmingly in favour of replacing Trident.\n",
      "During the debate, Mrs May told MPs it would be \"an act of gross irresponsibility\" for the UK to abandon its nuclear weapons.\n",
      "MPs backed its renewal by 472 votes to 117. However, all 52 SNP MPs voted against it - as did Labour leader Jeremy Corbyn.\n",
      "When asked on the BBC's Andrew Marr Show whether she had known then that a misfire had happened, Mrs May said: \"I have absolute faith in our Trident missiles.\n",
      "\"When I made that speech in the House of Commons, what we were talking about was whether or not we should renew our Trident.\"\n",
      "She was asked a further three times - but did not answer the questions.\n",
      "The Ministry of Defence did not give details of the test process but said it had been a success.\n",
      "Scottish First Minister, Mrs Sturgeon - a long-standing opponent of Trident, whose submarines are based at Faslane, on the River Clyde - said the apparent misfire was a \"hugely serious issue\".\n",
      "She tweeted: \"There should be full disclosure of what happened, who knew what/when, and why the House of Commons wasn't told.\"\n",
      "Meanwhile, Mr Corbyn said the reports called for \"a serious discussion\".\n",
      "He told Sky News: \"It's a pretty catastrophic error when a missile goes in the wrong direction, and while it wasn't armed, goodness knows what the consequences of that could have been.\"\n",
      "Nia Griffith, the shadow defence secretary, said it was \"completely unacceptable\" that Mrs May had \"side-stepped\" questions.\n",
      "She called for the prime minister to give \"a full explanation\" to Parliament on Monday.\n",
      "Admiral Lord West, the Labour peer and ex-Royal Navy officer, said it was \"bizarre and stupid\" to not tell anyone about the test.\n",
      "The Campaign for Nuclear Disarmament (CND) described reports of a misfire as a \"very serious failure\".\n",
      "\"There's absolutely no doubt that this would have impacted on the debate in Parliament on Trident replacement,\" its general secretary Kate Hudson said.\n",
      "A statement issued by both Downing Street and the MoD said the capability and effectiveness of Trident was \"unquestionable\".\n",
      "\"In June the Royal Navy conducted a routine, unarmed Trident missile test launch from HMS Vengeance, as part of an operation which is designed to certify the submarine and its crew.\n",
      "\"Vengeance and her crew were successfully tested and certified, allowing Vengeance to return into service. We have absolute confidence in our independent nuclear deterrent.\"\n",
      "The Sunday Times says the test fire was launched from HMS Vengeance.\n",
      "It says the Trident II D5 missile was intended to be fired 5,600 miles (9,012 km) to a sea target off the west coast of Africa but veered towards the US.\n",
      "The cause remains top secret, the paper says, but it quotes a senior naval source as saying the missile suffered an in-flight malfunction after launching out of the water.\n",
      "HMS Vengeance, one of the UK's four Vanguard-class submarines, returned to sea for trials in December 2015 after a £350m refit, which included the installation of new missile launch equipment and upgraded computer systems.\n",
      "According to the Sunday Times, it is expected that Defence Secretary Michael Fallon will be called to the Commons to answer questions from MPs.\n",
      "BBC defence correspondent Jonathan Beale said while the MoD has described the test as a success for the crew and the boat, it has not denied the report that the missile itself might have veered off course.\n",
      "In the past the MoD has issued a press release and video of successful tests but its silence on this occasion has raised questions as to whether any fault was deliberately kept quiet ahead of the key vote, our correspondent added.\n",
      "The Trident system was acquired by the Thatcher government in the early 1980s as a replacement for the Polaris missile system, which the UK had possessed since the 1960s.\n",
      "Trident came into use in the 1990s. There are three parts to it - submarines, missiles and warheads. Although each component has years of use left, they cannot last indefinitely.\n",
      "The current generation of four submarines would begin to end their working lives some time in the late 2020s.\n",
      "A guide to the Trident debate\n",
      "target:\tTheresa May is coming under pressure to say whether she knew about a reported misfire of the UK's nuclear weapons system before a crucial Commons vote.\n",
      "generated\tyes\n",
      "------\n",
      "\n",
      "source:\t summarize :A spokesman for Palm Beach Gardens police in Florida confirmed to the BBC they were investigating a fatal crash involving the Grand Slam champion.\n",
      "A man was taken to hospital after the accident on 9 June and died two weeks later from his injuries, he said.\n",
      "According to TMZ, which broke the story, police believe the seven-time Grand Slam champion was at fault.\n",
      "But a lawyer for Williams said it was an \"unfortunate accident\".\n",
      "The man who died, Jerome Barson, was travelling with his wife who was driving their vehicle through an intersection when the accident happened.\n",
      "Williams' car suddenly darted into their path and was unable to clear the junction in time due to traffic jams, according to witness statements in a police report obtained by US media.\n",
      "Mrs Barson was also taken to hospital but survived.\n",
      "\"[Williams] is at fault for violating the right of way of [the other driver],\" the report said, adding that there were no other factors like drugs, alcohol or mobile phone distractions.\n",
      "The 37-year-old tennis star reportedly told police she did not see the couple's car and she was driving slowly.\n",
      "Police spokesman Major Paul Rogers said police were investigating whether the incident was connected to Mr Barson's death.\n",
      "Williams' lawyer Malcolm Cunningham told CNN in a statement: \"Ms Williams entered the intersection on a green light. The police report estimates that Ms Williams was travelling at 5mph when Mrs Barson crashed into her.\n",
      "\"Authorities did not issue Ms Williams with any citations or traffic violations. This is an unfortunate accident and Venus expresses her deepest condolences to the family who lost a loved one.\"\n",
      "Next week, Williams is due to play at Wimbledon in London, where she is seeded 10th.\n",
      "target:\tUS tennis star Venus Williams has been involved in a car accident that led to the death of a 78-year-old man.\n",
      "generated\tno\n",
      "------\n",
      "\n",
      "source:\t summarize :The International Tribunal for the Law of the Sea did, however, allow Ghana to continue developing current oilfields.\n",
      "These include the so called-Ten fields, part owned by UK firm Tullow Oil.\n",
      "Ivory Coast had asked that all drilling be suspended, but the tribunal ruled this would risk \"considerable financial loss\" to Ghana.\n",
      "Instead, it told the West African nation to \"take all necessary steps to ensure than no new drilling either by Ghana or under its control takes place in the disputed area\" and to \"refrain from granting any new permit for oil exploration and exploitation in the disputed area\".\n",
      "The area is believed to contain large reserves of oil, which both countries are keen to exploit.\n",
      "Pending a ruling on the precise maritime border, the tribunal told both countries to \"pursue co-operation and refrain from any unilateral action that might lead to aggravating the dispute\".\n",
      "The ruling was welcomed by Tullow Oil, which owns a large stake in the near $5bn (Â£3.3bn) Ten project, which could reportedly produce up to 80,000 barrels a day.\n",
      "\"Following this ruling, the Ten project can move ahead and we will now await instructions from the government of Ghana with regard to implementing those provisional measures that have been ordered by [the tribunal],\" a Tullow spokesman said.\n",
      "target:\tGhana has been told by an international tribunal not to begin any new offshore drilling for oil in disputed waters with the Ivory Coast.\n",
      "generated\tno new drilling by the country or under its control takes place in the disputed area. the international tribunal for the law of the sea has allowed the country to continue developing current oilfields. the ruling was welcomed by the firm, which owns a large stake in the $5bn (£3.3bn)\n",
      "------\n",
      "\n"
     ]
    }
   ],
   "source": [
    "# test xsum dataset\n",
    "result_cnn = model.generate(test_input_encodings_cnn, max_length=512)\n",
    "model_output_decoded_cnn = tokenizer.batch_decode(result_cnn, skip_special_tokens=True)\n",
    "i=0\n",
    "for input, prediction, true in zip(test_input_cnn, model_output_decoded_cnn, test_target_cnn):\n",
    "  print(\"source:\\t {}\\ntarget:\\t{}\\ngenerated\\t{}\\n------\\n\".format(input,true,prediction, model_prediction))\n",
    "  i+=1\n",
    "  if i == 5:\n",
    "    break"
   ]
  },
  {
   "cell_type": "markdown",
   "metadata": {
    "id": "LkC_CmiYCtb9"
   },
   "source": [
    "## **Test boolq dataset for question answering**"
   ]
  },
  {
   "cell_type": "code",
   "execution_count": null,
   "metadata": {
    "id": "khQBuJGaCxj_"
   },
   "outputs": [],
   "source": [
    "dataset_size = 100\n",
    "\n",
    "def create_batch(dataset, dataset_size=dataset_size, prefix=prefix, tokenizer=tokenizer, max_len=512):\n",
    "    batch_input = [\"question : \" + question + ' context : ' + passage \n",
    "                   for question, passage in zip(dataset['question'][:dataset_size], \n",
    "                                                dataset['passage'][:dataset_size])]\n",
    "    batch_output = [str(elt) for elt in dataset['answer'][:dataset_size]]\n",
    "    input_encodings = tokenizer.batch_encode_plus(batch_input, padding=True, max_length=max_len, truncation=True, return_tensors=\"pt\").input_ids\n",
    "    target_encodings = tokenizer.batch_encode_plus(batch_output, padding=True, max_length=max_len, truncation=True, return_tensors=\"pt\").input_ids\n",
    "    return batch_input, batch_output, input_encodings.to('cuda'), target_encodings.to('cuda')\n",
    "\n",
    "boolq = load_dataset('boolq')\n",
    "train_set = boolq['train']\n",
    "test_set = boolq['validation']\n",
    "\n",
    "test_set = test_set[:dataset_size]\n",
    "\n",
    "test_input_boolq, test_target_boolq, test_input_encodings_boolq, test_output_encodings_boolq = create_batch(test_set)"
   ]
  },
  {
   "cell_type": "code",
   "execution_count": 55,
   "metadata": {
    "colab": {
     "base_uri": "https://localhost:8080/"
    },
    "id": "RDizjLQLCx69",
    "outputId": "4fa0bb96-60a6-419d-88b3-09a65a711eae"
   },
   "outputs": [
    {
     "name": "stderr",
     "output_type": "stream",
     "text": [
      "The `xla_device` argument has been deprecated in v4.4.0 of Transformers. It is ignored and you can safely remove it from your `config.json` file.\n"
     ]
    },
    {
     "name": "stdout",
     "output_type": "stream",
     "text": [
      "source:\t question : does ethanol take more energy make that produces context : All biomass goes through at least some of these steps: it needs to be grown, collected, dried, fermented, distilled, and burned. All of these steps require resources and an infrastructure. The total amount of energy input into the process compared to the energy released by burning the resulting ethanol fuel is known as the energy balance (or ``energy returned on energy invested''). Figures compiled in a 2007 report by National Geographic Magazine point to modest results for corn ethanol produced in the US: one unit of fossil-fuel energy is required to create 1.3 energy units from the resulting ethanol. The energy balance for sugarcane ethanol produced in Brazil is more favorable, with one unit of fossil-fuel energy required to create 8 from the ethanol. Energy balance estimates are not easily produced, thus numerous such reports have been generated that are contradictory. For instance, a separate survey reports that production of ethanol from sugarcane, which requires a tropical climate to grow productively, returns from 8 to 9 units of energy for each unit expended, as compared to corn, which only returns about 1.34 units of fuel energy for each unit of energy expended. A 2006 University of California Berkeley study, after analyzing six separate studies, concluded that producing ethanol from corn uses much less petroleum than producing gasoline.\n",
      "target:\tFalse\n",
      "generated\tno\n",
      "------\n",
      "\n",
      "source:\t question : is house tax and property tax are same context : Property tax or 'house tax' is a local tax on buildings, along with appurtenant land. It is and imposed on the Possessor (not the custodian of property as per 1978, 44th amendment of constitution). It resembles the US-type wealth tax and differs from the excise-type UK rate. The tax power is vested in the states and is delegated to local bodies, specifying the valuation method, rate band, and collection procedures. The tax base is the annual rental value (ARV) or area-based rating. Owner-occupied and other properties not producing rent are assessed on cost and then converted into ARV by applying a percentage of cost, usually four percent. Vacant land is generally exempt. Central government properties are exempt. Instead a 'service charge' is permissible under executive order. Properties of foreign missions also enjoy tax exemption without requiring reciprocity. The tax is usually accompanied by service taxes, e.g., water tax, drainage tax, conservancy (sanitation) tax, lighting tax, all using the same tax base. The rate structure is flat on rural (panchayat) properties, but in the urban (municipal) areas it is mildly progressive with about 80% of assessments falling in the first two brackets.\n",
      "target:\tTrue\n",
      "generated\tyes\n",
      "------\n",
      "\n",
      "source:\t question : is pain experienced in a missing body part or paralyzed area context : Phantom pain sensations are described as perceptions that an individual experiences relating to a limb or an organ that is not physically part of the body. Limb loss is a result of either removal by amputation or congenital limb deficiency. However, phantom limb sensations can also occur following nerve avulsion or spinal cord injury.\n",
      "target:\tTrue\n",
      "generated\tyes\n",
      "------\n",
      "\n",
      "source:\t question : is harry potter and the escape from gringotts a roller coaster ride context : Harry Potter and the Escape from Gringotts is an indoor steel roller coaster at Universal Studios Florida, a theme park located within the Universal Orlando Resort. Similar to dark rides, the roller coaster utilizes special effects in a controlled-lighting environment and also employs motion-based 3-D projection of both animation and live-action sequences to enhance the experience. The ride, which is themed to the Gringotts Wizarding Bank, became the flagship attraction for the expanded Wizarding World of Harry Potter when it opened on July 8, 2014.\n",
      "target:\tTrue\n",
      "generated\tyes\n",
      "------\n",
      "\n",
      "source:\t question : is there a difference between hydroxyzine hcl and hydroxyzine pam context : Hydroxyzine preparations require a doctor's prescription. The drug is available in two formulations, the pamoate and the dihydrochloride or hydrochloride salts. Vistaril, Equipose, Masmoran, and Paxistil are preparations of the pamoate salt, while Atarax, Alamon, Aterax, Durrax, Tran-Q, Orgatrax, Quiess, and Tranquizine are of the hydrochloride salt.\n",
      "target:\tTrue\n",
      "generated\tno\n",
      "------\n",
      "\n"
     ]
    }
   ],
   "source": [
    "# test boolq dataset\n",
    "model = AutoModelForSeq2SeqLM.from_pretrained(\"mrm8488/t5-small-finetuned-boolq\").to('cuda')\n",
    "\n",
    "result_boolq = model.generate(test_input_encodings_boolq, max_length=512)\n",
    "model_output_decoded_boolq = tokenizer.batch_decode(result_boolq, skip_special_tokens=True)\n",
    "i=0\n",
    "for input, prediction, true in zip(test_input_boolq, model_output_decoded_boolq, test_target_boolq):\n",
    "  print(\"source:\\t {}\\ntarget:\\t{}\\ngenerated\\t{}\\n------\\n\".format(input,true,prediction, model_prediction))\n",
    "  i+=1\n",
    "  if i == 5:\n",
    "    break"
   ]
  },
  {
   "cell_type": "markdown",
   "metadata": {
    "id": "BpctZoYQLTrr"
   },
   "source": [
    "# **Deliverable 1.2 : Rouge and Bleu implementation**\n"
   ]
  },
  {
   "cell_type": "markdown",
   "metadata": {
    "id": "nGolj47xEjZ6"
   },
   "source": [
    "## **Rouge metric implementation**"
   ]
  },
  {
   "cell_type": "markdown",
   "metadata": {
    "id": "jo_HHd-hNJXc"
   },
   "source": [
    "### **Implementation and test of rouge-N on Xsum dataset**"
   ]
  },
  {
   "cell_type": "code",
   "execution_count": 7,
   "metadata": {
    "id": "HLFo3Ns1Ieml"
   },
   "outputs": [],
   "source": [
    "# Implement metric rouge\n",
    "from sklearn.feature_extraction.text import CountVectorizer\n",
    "import numpy as np\n",
    "from mosestokenizer import MosesTokenizer\n",
    "\n",
    "from sacrerouge.metrics import Rouge\n",
    "rouge_true = Rouge(max_ngram=3, compute_rouge_l=True)\n",
    "\n",
    "\n",
    "def rouge_n(true, pred, n):\n",
    "    vectorizer = CountVectorizer(lowercase=False, ngram_range=(n, n))\n",
    "    vectorizer.fit([true] + [pred])  \n",
    "\n",
    "    true_counter = vectorizer.transform([true]).toarray()[0]\n",
    "    pred_counter = vectorizer.transform([pred]).toarray()[0]\n",
    "\n",
    "    matches = 0\n",
    "    for true_elt, pred_elt in zip(true_counter, pred_counter):\n",
    "      matches += min(true_elt, pred_elt)\n",
    "\n",
    "    return matches/np.sum(true_counter)"
   ]
  },
  {
   "cell_type": "code",
   "execution_count": 49,
   "metadata": {
    "id": "FFCZxb2rchQ0"
   },
   "outputs": [],
   "source": [
    "# Test for rouge-n score\n",
    "\n",
    "rouge_n_dict = {}\n",
    "rouge_ns_dict = {}\n",
    "\n",
    "for i in range(1, 4):\n",
    "  rouge_n_list = []\n",
    "  rouge_ns_list = []\n",
    "  for true, pred in zip(test_target_cnn, model_output_decoded_cnn):\n",
    "    rouge_n_list.append(rouge_n(true, pred, i)*100)\n",
    "    rouge_ns_list.append(rouge_true.score(pred, [true])[f'rouge-{i}']['f1'])\n",
    "  rouge_n_dict[f'rouge-{i}'] = np.mean(rouge_n_list)\n",
    "  rouge_ns_dict[f'rouge-{i}'] = np.mean(rouge_ns_list)"
   ]
  },
  {
   "cell_type": "markdown",
   "metadata": {
    "id": "BG0ofabkNSbQ"
   },
   "source": [
    "### **Implementation and test of rouge-L on Xsum dataset**"
   ]
  },
  {
   "cell_type": "code",
   "execution_count": 50,
   "metadata": {
    "id": "hKynDHBo-dWm"
   },
   "outputs": [],
   "source": [
    "# Own implementation of rouge-L\n",
    "def lcs(a, b):\n",
    "    \"\"\"\n",
    "    Compute the length of the longest common subsequence between two sequences.\n",
    "    \"\"\"\n",
    "    if len(a) < len(b):\n",
    "        a, b = b, a\n",
    "    if len(b) == 0:\n",
    "        return 0\n",
    "    row = [0] * len(b)\n",
    "    for ai in a:\n",
    "        left = 0\n",
    "        diag = 0\n",
    "        for j, bj in enumerate(b):\n",
    "            up = row[j]\n",
    "            if ai == bj:\n",
    "                value = diag + 1\n",
    "            else:\n",
    "                value = max(left, up)\n",
    "            row[j] = value\n",
    "            left = value\n",
    "            diag = up\n",
    "    return left\n",
    "\n",
    "def rouge_l(true, pred):\n",
    "    tokenizer = MosesTokenizer('en')\n",
    "    true_tokens = tokenizer(true)\n",
    "    pred_tokens = tokenizer(pred)\n",
    "    matches = lcs(true_tokens, pred_tokens)\n",
    "    return f1_score(matches, len(true_tokens), len(pred_tokens))"
   ]
  },
  {
   "cell_type": "code",
   "execution_count": 53,
   "metadata": {
    "id": "FgQNOPDLUxFt"
   },
   "outputs": [],
   "source": [
    "# Test for rouge-l score (comparison between our implementation and sacrerouge \n",
    "# implementations)\n",
    "rouge_l_list = []\n",
    "rouge_ls_list = []\n",
    "\n",
    "for true, pred in zip(test_target_cnn, model_output_decoded_cnn):\n",
    "  rouge_l_list.append(rouge_l(true, pred)*100)\n",
    "  rouge_ls_list.append(rouge_true.score(pred, [true])['rouge-l']['f1'])\n",
    "\n",
    "rouge_n_dict['rouge-l'] = np.mean(rouge_l_list)\n",
    "rouge_ns_dict['rouge-l'] = np.mean(rouge_ls_list)"
   ]
  },
  {
   "cell_type": "markdown",
   "metadata": {
    "id": "3zk02YAjNUXE"
   },
   "source": [
    "### **Dataframe comparaison between our implementation and sacrerouge for ROUGE metric**"
   ]
  },
  {
   "cell_type": "code",
   "execution_count": 52,
   "metadata": {
    "colab": {
     "base_uri": "https://localhost:8080/",
     "height": 111
    },
    "id": "qpQdj_-yl5qU",
    "outputId": "103b8e74-f38b-4c10-d8d8-271955411504"
   },
   "outputs": [
    {
     "data": {
      "text/html": [
       "<div>\n",
       "<style scoped>\n",
       "    .dataframe tbody tr th:only-of-type {\n",
       "        vertical-align: middle;\n",
       "    }\n",
       "\n",
       "    .dataframe tbody tr th {\n",
       "        vertical-align: top;\n",
       "    }\n",
       "\n",
       "    .dataframe thead th {\n",
       "        text-align: right;\n",
       "    }\n",
       "</style>\n",
       "<table border=\"1\" class=\"dataframe\">\n",
       "  <thead>\n",
       "    <tr style=\"text-align: right;\">\n",
       "      <th></th>\n",
       "      <th>rouge-1</th>\n",
       "      <th>rouge-2</th>\n",
       "      <th>rouge-3</th>\n",
       "      <th>rouge-l</th>\n",
       "    </tr>\n",
       "  </thead>\n",
       "  <tbody>\n",
       "    <tr>\n",
       "      <th>own_implementation</th>\n",
       "      <td>3.07823</td>\n",
       "      <td>0.177866</td>\n",
       "      <td>0.00000</td>\n",
       "      <td>2.638141</td>\n",
       "    </tr>\n",
       "    <tr>\n",
       "      <th>sacre-rouge</th>\n",
       "      <td>3.14784</td>\n",
       "      <td>0.245940</td>\n",
       "      <td>0.05128</td>\n",
       "      <td>2.156430</td>\n",
       "    </tr>\n",
       "  </tbody>\n",
       "</table>\n",
       "</div>"
      ],
      "text/plain": [
       "                    rouge-1   rouge-2  rouge-3   rouge-l\n",
       "own_implementation  3.07823  0.177866  0.00000  2.638141\n",
       "sacre-rouge         3.14784  0.245940  0.05128  2.156430"
      ]
     },
     "execution_count": 52,
     "metadata": {
      "tags": []
     },
     "output_type": "execute_result"
    }
   ],
   "source": [
    "# Dataframe comparaison for ROUGE\n",
    "import pandas as pd\n",
    "df_rouge = pd.DataFrame.from_records([rouge_n_dict, rouge_ns_dict], \n",
    "                                     index=['own_implementation', 'sacre-rouge'])\n",
    "df_rouge"
   ]
  },
  {
   "cell_type": "markdown",
   "metadata": {
    "id": "QFyZL2FoMh60"
   },
   "source": [
    "As, we can see our implementation of the Rouge metric is not exactly the same as the one coded in sacrerouge (for the rouge-n and rouge-l). However, it is quite close (0.1% difference), maybe it is because we don't use the same tokenizer to split the sentences in token.\n",
    "Moreover, concerning the xsum dataset, it doesn't give great results, as we could have expected when we looked on some examples."
   ]
  },
  {
   "cell_type": "markdown",
   "metadata": {
    "id": "Wr2Cv1i2Er4Y"
   },
   "source": [
    "## **Bleu metric implementation**"
   ]
  },
  {
   "cell_type": "code",
   "execution_count": 8,
   "metadata": {
    "id": "zWgATQleig8y"
   },
   "outputs": [],
   "source": [
    "from collections import Counter\n",
    "import numpy as np\n",
    "from sklearn.feature_extraction.text import CountVectorizer\n",
    "\n",
    "def compute_pn(refs, candidate, n):\n",
    "    vectorizer = CountVectorizer(lowercase=False, ngram_range=(n, n))\n",
    "    vectorizer.fit(refs + candidate)  \n",
    "    a = vectorizer.transform(refs).toarray()\n",
    "    b = vectorizer.transform(candidate).toarray()\n",
    "\n",
    "    sum = np.sum(a*b)\n",
    "    sum_b = np.sum(b)\n",
    "    return sum / sum_b\n",
    "\n",
    "def compute_BP(refs, candidate):\n",
    "    r = np.sum([len(c.split()) for c in refs])\n",
    "    c = np.sum([len(c.split()) for c in candidate])\n",
    "    if c > r:\n",
    "      return 1\n",
    "    else:\n",
    "      return np.exp((1-r)/c)\n",
    "\n",
    "def BLEU_star(ref, candidate, N, w):\n",
    "    s = 0\n",
    "    for n in range(1, N+1):\n",
    "      pn = compute_pn([ref], [candidate], n)\n",
    "      s += w*np.log(pn)\n",
    "    BP = compute_BP([ref], [candidate])\n",
    "    return 100*BP * np.exp(s)"
   ]
  },
  {
   "cell_type": "code",
   "execution_count": 99,
   "metadata": {
    "colab": {
     "base_uri": "https://localhost:8080/"
    },
    "id": "aJw3lexvfYTa",
    "outputId": "2f6233ee-05d5-4ffc-8809-0ef16f6d26bb"
   },
   "outputs": [
    {
     "name": "stderr",
     "output_type": "stream",
     "text": [
      "/usr/local/lib/python3.7/dist-packages/ipykernel_launcher.py:27: RuntimeWarning: divide by zero encountered in log\n"
     ]
    },
    {
     "name": "stdout",
     "output_type": "stream",
     "text": [
      "Own implementation :  13.53100109010626\n",
      "Sacrebleu implementation :  14.316443259052077\n"
     ]
    }
   ],
   "source": [
    "import sacrebleu\n",
    "\n",
    "# Test of our BLEU implementation metric on the bible dataset\n",
    "N = 4\n",
    "bleu_score = []\n",
    "for input, prediction, true in zip(test_input_bible, model_output_decoded_bible, test_target_bible):\n",
    "  bleu_score.append(BLEU_star(true, prediction, N, 1/N))\n",
    "\n",
    "# Test of the sacrebleu BLEU implementation on the bible dataset\n",
    "bleu = sacrebleu.corpus_bleu(model_output_decoded_bible, [test_target_bible]).score\n",
    "\n",
    "# Comparison\n",
    "print('Own implementation : ', np.mean(bleu_score))\n",
    "print('Sacrebleu implementation : ', bleu)"
   ]
  },
  {
   "cell_type": "markdown",
   "metadata": {
    "id": "_X0UM-U_RlMJ"
   },
   "source": [
    "As ROUGE, we have a difference between the results of our own implementation of BLEU and the implementation of sacrebleu, it can be because of the tokenizer.\n",
    "However, the results on the bible test set is not very high compared to our expectations seeing the first translations."
   ]
  },
  {
   "cell_type": "markdown",
   "metadata": {
    "id": "SRVoIJjLFRcc"
   },
   "source": [
    "## **F1-score for question answenring**"
   ]
  },
  {
   "cell_type": "code",
   "execution_count": 102,
   "metadata": {
    "id": "cwosFDvaFV4S"
   },
   "outputs": [],
   "source": [
    "# This change in the answer is needed as it is clear that 'yes' corresponds to\n",
    "# true in our application on the Boolq dataset.\n",
    "\n",
    "true_to_yes = {\n",
    "    'True': 'yes',\n",
    "    'False': 'no'\n",
    "}\n",
    "\n",
    "def get_score_for_boolq_dataset(true, pred):\n",
    "  true = true_to_yes[true]\n",
    "  if true == pred:\n",
    "    return 1\n",
    "  return 0  "
   ]
  },
  {
   "cell_type": "code",
   "execution_count": 104,
   "metadata": {
    "colab": {
     "base_uri": "https://localhost:8080/"
    },
    "id": "3hVgCnmeHcZ8",
    "outputId": "ce9e913d-e5f5-4a60-e504-9e76c6e06cce"
   },
   "outputs": [
    {
     "name": "stdout",
     "output_type": "stream",
     "text": [
      "0.75\n"
     ]
    }
   ],
   "source": [
    "# Test our implementation of \"f1-score\"\n",
    "f1_score_boolq = []\n",
    "for true, pred in zip(test_target_boolq, model_output_decoded_boolq):\n",
    "  f1_score_boolq.append(get_score_for_boolq_dataset(true, pred))\n",
    "\n",
    "print(np.mean(f1_score_boolq))"
   ]
  },
  {
   "cell_type": "markdown",
   "metadata": {
    "id": "iMM9n88LTAry"
   },
   "source": [
    "The metric for Boolq dataset was not very developped because it's a dataset where you answers true or False, so the f1-score corresponds to the number of time you're right or not.\n",
    "In the boolq dataset, we can see that the score is pretty high. It corresponds to what we saw on the example above."
   ]
  },
  {
   "cell_type": "markdown",
   "metadata": {
    "id": "Q7Daxb22aWp3"
   },
   "source": [
    "# **Deliverable 1.3**"
   ]
  },
  {
   "cell_type": "markdown",
   "metadata": {
    "id": "bGrxSLiyE7fn"
   },
   "source": [
    "## **Implement all decoders functions**"
   ]
  },
  {
   "cell_type": "code",
   "execution_count": 14,
   "metadata": {
    "id": "Sly-IubGQCOD"
   },
   "outputs": [],
   "source": [
    "# Implement beam search\n",
    "def beam_search(input_ids, nb_beams, max_len=512):\n",
    "  with torch.no_grad():\n",
    "    decoder_input_ids = torch.zeros((1, 1)).int().to(device)\n",
    "\n",
    "    sequences = [(decoder_input_ids, 1)]\n",
    "\n",
    "    next_tok = 2\n",
    "\n",
    "    while next_tok != 1 and sequences[0][0][0].size()[0] < max_len:\n",
    "      new_sequences = []\n",
    "\n",
    "      for decoder_input_id, prob in sequences:\n",
    "        output = model(input_ids=input_ids, decoder_input_ids=decoder_input_id)\n",
    "        probas = torch.softmax(output.logits[0, -1, :], dim=-1)\n",
    "        next_tok_probas, next_tok_list = torch.topk(probas, nb_beams)\n",
    "\n",
    "        for i in range(next_tok_probas.size()[0]):\n",
    "          next_tok_prob = next_tok_probas[i].item()\n",
    "          next_token = next_tok_list[i].view(1, 1)\n",
    "          new_decoder_input_ids = torch.cat([decoder_input_id, next_token], dim=1).to(device)\n",
    "\n",
    "          new_sequences.append((new_decoder_input_ids, prob*next_tok_prob))\n",
    "            \n",
    "      sequences = sorted(new_sequences, key=lambda x: x[1], reverse=True)[:nb_beams]\n",
    "\n",
    "\n",
    "      next_tok = sequences[0][0][0][-1].view(1).item()\n",
    "\n",
    "    \n",
    "  return tokenizer.batch_decode(sequences[0][0], skip_special_tokens=True)"
   ]
  },
  {
   "cell_type": "code",
   "execution_count": 16,
   "metadata": {
    "id": "T2rsupGzNTLV"
   },
   "outputs": [],
   "source": [
    "# Implement nucleus sampling\n",
    "def nucleus_sampling(input_ids, top_p, max_len=512):\n",
    "  with torch.no_grad():\n",
    "      decoder_input_ids = torch.zeros((1, 1)).int().to(device)\n",
    "      next_tok = decoder_input_ids\n",
    "\n",
    "      while next_tok.view(1).item() != 1 and decoder_input_ids.size()[1] < max_len:\n",
    "        output = model(input_ids=input_ids, decoder_input_ids=decoder_input_ids)\n",
    "        \n",
    "        probas = torch.softmax(output.logits[0, -1, :], dim=-1)\n",
    "        \n",
    "        prob, prob_indices = probas.sort(descending=True)\n",
    "        cum_probas = prob.cumsum(dim=0)\n",
    "\n",
    "        probas[prob_indices[cum_probas > top_p]] = 0\n",
    "\n",
    "        if probas.sum() > 0:\n",
    "          probas = probas/probas.sum()\n",
    "          next_tok = torch.multinomial(probas, 1).view(1, 1)\n",
    "       \n",
    "        else:\n",
    "          next_tok = prob_indices[0].view(1, 1)\n",
    "        \n",
    "        decoder_input_ids = torch.cat([decoder_input_ids, next_tok], dim=1).to(device)\n",
    "  return tokenizer.batch_decode(decoder_input_ids, skip_special_tokens=True)"
   ]
  },
  {
   "cell_type": "code",
   "execution_count": 17,
   "metadata": {
    "id": "WplSkZBKTndX"
   },
   "outputs": [],
   "source": [
    "# Implement temperature samp\n",
    "def temperature_sampling(input_ids, temperature, max_len=512):\n",
    "  with torch.no_grad():\n",
    "      decoder_input_ids = torch.zeros((1, 1)).int().to(device)\n",
    "      next_tok = decoder_input_ids\n",
    "\n",
    "      while next_tok.view(1).item() != 1 and decoder_input_ids.size()[1] < max_len:\n",
    "        output = model(input_ids=input_ids, decoder_input_ids=decoder_input_ids)\n",
    "        \n",
    "        probas = torch.softmax(output.logits[0, -1, :]/temperature, dim=-1)\n",
    "\n",
    "        probas = probas/probas.sum()\n",
    "        next_tok = torch.multinomial(probas, 1)\n",
    "\n",
    "        decoder_input_ids = torch.cat([decoder_input_ids, next_tok.view(1,1)], \n",
    "                                      dim=1).to(device)\n",
    "\n",
    "  return tokenizer.batch_decode(decoder_input_ids, skip_special_tokens=True)"
   ]
  },
  {
   "cell_type": "markdown",
   "metadata": {
    "id": "G-r0olaKlBrh"
   },
   "source": [
    "## **Tests translation**"
   ]
  },
  {
   "cell_type": "markdown",
   "metadata": {
    "id": "dlZXRjfXlkN9"
   },
   "source": [
    "### **Test on text**"
   ]
  },
  {
   "cell_type": "code",
   "execution_count": 48,
   "metadata": {
    "colab": {
     "base_uri": "https://localhost:8080/"
    },
    "id": "bGpQPWIMbBR0",
    "outputId": "4e9de2b2-ffc5-43fb-896d-87d6d6e258da"
   },
   "outputs": [
    {
     "name": "stdout",
     "output_type": "stream",
     "text": [
      "------- n-beams : 1 ----------\n",
      "source:\t translate English to French: In the beginning God created the heavens and the earth.\n",
      "target:\tAu commencement, Dieu créa les cieux et la terre.\n",
      "own generated\tAu début, Dieu créa les cieux et la terre.\n",
      "Model generated\tAu début, Dieu créa les cieux et la terre.\n",
      "------\n",
      "\n",
      "source:\t translate English to French: Now the earth was formless and empty. Darkness was on the surface of the deep. God's Spirit was hovering over the surface of the waters.\n",
      "target:\tLa terre était informe et vide: il y avait des ténèbres à la surface de l`abîme, et l`esprit de Dieu se mouvait au-dessus des eaux.\n",
      "own generated\tMaintenant, la terre était sans forme et vide, la fébrilité était sur la surface du profond, l'Esprit de Dieu a établi un aperçu de la surface des eaux.\n",
      "Model generated\tMaintenant, la terre était sans forme et vide, la fébrilité était sur la surface du profond, l'Esprit de Dieu a établi un aperçu de la surface des eaux.\n",
      "------\n",
      "\n",
      "------- n-beams : 2 ----------\n",
      "source:\t translate English to French: In the beginning God created the heavens and the earth.\n",
      "target:\tAu commencement, Dieu créa les cieux et la terre.\n",
      "own generated\tAu début, Dieu créa les cieux et la terre.\n",
      "Model generated\tAu début, Dieu créa les cieux et la terre.\n",
      "------\n",
      "\n",
      "source:\t translate English to French: Now the earth was formless and empty. Darkness was on the surface of the deep. God's Spirit was hovering over the surface of the waters.\n",
      "target:\tLa terre était informe et vide: il y avait des ténèbres à la surface de l`abîme, et l`esprit de Dieu se mouvait au-dessus des eaux.\n",
      "own generated\tAujourd'hui, la terre était sans forme et vide, la foncée était sur la surface de la profondeur, l'Esprit de Dieu a plongé sur la surface des eaux.\n",
      "Model generated\tAujourd'hui, la terre était sans forme et vide, la foncée était sur la surface de la profondeur, l'Esprit de Dieu a plongé sur la surface des eaux.\n",
      "------\n",
      "\n",
      "------- n-beams : 3 ----------\n",
      "source:\t translate English to French: In the beginning God created the heavens and the earth.\n",
      "target:\tAu commencement, Dieu créa les cieux et la terre.\n",
      "own generated\tAu début, Dieu créa les cieux et la terre.\n",
      "Model generated\tAu début, Dieu créa les cieux et la terre.\n",
      "------\n",
      "\n",
      "source:\t translate English to French: Now the earth was formless and empty. Darkness was on the surface of the deep. God's Spirit was hovering over the surface of the waters.\n",
      "target:\tLa terre était informe et vide: il y avait des ténèbres à la surface de l`abîme, et l`esprit de Dieu se mouvait au-dessus des eaux.\n",
      "own generated\tAujourd'hui, la terre était sans forme et vide, la foncée était sur la surface de la profondeur, l'Esprit de Dieu a plongé sur la surface des eaux.\n",
      "Model generated\tAujourd'hui, la terre était sans forme et vide, la foncée était sur la surface de la profondeur, l'Esprit de Dieu a plongé sur la surface des eaux.\n",
      "------\n",
      "\n",
      "------- n-beams : 4 ----------\n",
      "source:\t translate English to French: In the beginning God created the heavens and the earth.\n",
      "target:\tAu commencement, Dieu créa les cieux et la terre.\n",
      "own generated\tAu début, Dieu créa les cieux et la terre.\n",
      "Model generated\tAu début, Dieu créa les cieux et la terre.\n",
      "------\n",
      "\n",
      "source:\t translate English to French: Now the earth was formless and empty. Darkness was on the surface of the deep. God's Spirit was hovering over the surface of the waters.\n",
      "target:\tLa terre était informe et vide: il y avait des ténèbres à la surface de l`abîme, et l`esprit de Dieu se mouvait au-dessus des eaux.\n",
      "own generated\tAujourd'hui, la terre était sans forme et vide, la foncée se trouvait sur la surface du profond, l'Esprit de Dieu s'élevait sur la surface des eaux.\n",
      "Model generated\tAujourd'hui, la terre était sans forme et vide, la foncée se trouvait sur la surface du profond, l'Esprit de Dieu s'établissait sur la surface des eaux.\n",
      "------\n",
      "\n"
     ]
    }
   ],
   "source": [
    "# Tests with n beams\n",
    "for n in range(1, 5):\n",
    "  i=0\n",
    "  print(f'------- n-beams : {n} ----------')\n",
    "  for input, true in zip(test_input_bible, test_target_bible):\n",
    "    input_ids = tokenizer.batch_encode_plus([input], padding=True, max_length=512, \n",
    "                                            truncation=True, return_tensors=\"pt\").input_ids.to(device)\n",
    "    prediction = beam_search(input_ids, n)[0]\n",
    "    model_prediction_ids = model.generate(input_ids, num_beams=n, max_length=512)\n",
    "    model_prediction = tokenizer.batch_decode(model_prediction_ids, skip_special_tokens=True)[0]\n",
    "    print(\"source:\\t {}\\ntarget:\\t{}\\nown generated\\t{}\\nModel generated\\t{}\\n------\\n\".format(input,true,prediction, model_prediction))\n",
    "    i+= 1\n",
    "    if i == 2: break"
   ]
  },
  {
   "cell_type": "code",
   "execution_count": 47,
   "metadata": {
    "colab": {
     "base_uri": "https://localhost:8080/"
    },
    "id": "xavW8kqWire6",
    "outputId": "f0037db1-b0e4-4db2-f0da-5501a3886a43"
   },
   "outputs": [
    {
     "name": "stdout",
     "output_type": "stream",
     "text": [
      "------- top-p : 0.5 ----------\n",
      "source:\t translate English to French: In the beginning God created the heavens and the earth.\n",
      "target:\tAu commencement, Dieu créa les cieux et la terre.\n",
      "own generated\tAu début, Dieu créa les cieux et la terre.\n",
      "Model generated\tAu début, Dieu créa les cieux et la terre.\n",
      "------\n",
      "\n",
      "source:\t translate English to French: Now the earth was formless and empty. Darkness was on the surface of the deep. God's Spirit was hovering over the surface of the waters.\n",
      "target:\tLa terre était informe et vide: il y avait des ténèbres à la surface de l`abîme, et l`esprit de Dieu se mouvait au-dessus des eaux.\n",
      "own generated\tMaintenant, la terre était sans forme et vide, la foncée était sur la surface du profond, l'Esprit de Dieu s'élevait sur la surface des eaux.\n",
      "Model generated\tMaintenant, la terre était sans forme et vide, la fébrilité était sur la surface du profond, l'Esprit de Dieu a établi un aperçu de la surface des eaux.\n",
      "------\n",
      "\n",
      "------- top-p : 0.7 ----------\n",
      "source:\t translate English to French: In the beginning God created the heavens and the earth.\n",
      "target:\tAu commencement, Dieu créa les cieux et la terre.\n",
      "own generated\tAu début, Dieu créa les cieux et la terre.\n",
      "Model generated\tAu début, Dieu créa les cieux et la terre.\n",
      "------\n",
      "\n",
      "source:\t translate English to French: Now the earth was formless and empty. Darkness was on the surface of the deep. God's Spirit was hovering over the surface of the waters.\n",
      "target:\tLa terre était informe et vide: il y avait des ténèbres à la surface de l`abîme, et l`esprit de Dieu se mouvait au-dessus des eaux.\n",
      "own generated\tEt le nom de la pétition qui est en lui apparaît ne constitue pas l'élément le plus important de la doctrine : il est le héros de la pensée, il est a sa mienne et il a édifié le pape d'esclavage en meurtrier.\n",
      "Model generated\tMaintenant, la terre était sans forme et vide, la fébrilité était sur la surface du profond, l'Esprit de Dieu a établi un aperçu de la surface des eaux.\n",
      "------\n",
      "\n",
      "------- top-p : 0.9 ----------\n",
      "source:\t translate English to French: In the beginning God created the heavens and the earth.\n",
      "target:\tAu commencement, Dieu créa les cieux et la terre.\n",
      "own generated\tDurant le début, Dieu créa les cieux et la terre.\n",
      "Model generated\tAu début, Dieu créa les cieux et la terre.\n",
      "------\n",
      "\n",
      "source:\t translate English to French: Now the earth was formless and empty. Darkness was on the surface of the deep. God's Spirit was hovering over the surface of the waters.\n",
      "target:\tLa terre était informe et vide: il y avait des ténèbres à la surface de l`abîme, et l`esprit de Dieu se mouvait au-dessus des eaux.\n",
      "own generated\tDes conceptions ont surtout été faites au contenu du mot \"Woder\" parce que ces mots revêtent des considérations liées à la verve et à la gée des eaux.\n",
      "Model generated\tMaintenant, la terre était sans forme et vide, la fébrilité était sur la surface du profond, l'Esprit de Dieu a établi un aperçu de la surface des eaux.\n",
      "------\n",
      "\n",
      "------- top-p : 0.95 ----------\n",
      "source:\t translate English to French: In the beginning God created the heavens and the earth.\n",
      "target:\tAu commencement, Dieu créa les cieux et la terre.\n",
      "own generated\tL’âge de 13 ans appartient. Depuis celle d’Isot, on ne le connaît pas, mais seulement parce qu’on veut pour peu en parler.\n",
      "Model generated\tAu début, Dieu créa les cieux et la terre.\n",
      "------\n",
      "\n",
      "source:\t translate English to French: Now the earth was formless and empty. Darkness was on the surface of the deep. God's Spirit was hovering over the surface of the waters.\n",
      "target:\tLa terre était informe et vide: il y avait des ténèbres à la surface de l`abîme, et l`esprit de Dieu se mouvait au-dessus des eaux.\n",
      "own generated\tMaintenant, il est le ciel sans forme et insolé, la dune pour la profondeur, l'esprit divin calme sur les profondeurs.\n",
      "Model generated\tMaintenant, la terre était sans forme et vide, la fébrilité était sur la surface du profond, l'Esprit de Dieu a établi un aperçu de la surface des eaux.\n",
      "------\n",
      "\n"
     ]
    }
   ],
   "source": [
    "# Tests with nuclear samping\n",
    "for top_p in [0.5, 0.7, 0.9, 0.95]:\n",
    "  i=0\n",
    "  print(f'------- top-p : {top_p} ----------')\n",
    "  for input, true in zip(test_input_bible, test_target_bible):\n",
    "    input_ids = tokenizer.batch_encode_plus([input], padding=True, max_length=512, \n",
    "                                            truncation=True, return_tensors=\"pt\").input_ids.to(device)\n",
    "    prediction = nucleus_sampling(input_ids, top_p)[0]\n",
    "    model_prediction_ids = model.generate(input_ids, top_p=top_p, max_length=512)\n",
    "    model_prediction = tokenizer.batch_decode(model_prediction_ids, skip_special_tokens=True)[0]\n",
    "    print(\"source:\\t {}\\ntarget:\\t{}\\nown generated\\t{}\\nModel generated\\t{}\\n------\\n\".format(input,true,prediction, model_prediction))\n",
    "    i+= 1\n",
    "    if i == 2: break"
   ]
  },
  {
   "cell_type": "code",
   "execution_count": 46,
   "metadata": {
    "colab": {
     "base_uri": "https://localhost:8080/"
    },
    "id": "A5BzdMc5kPrt",
    "outputId": "d52169c4-1445-4124-eae5-f5a68dc29210"
   },
   "outputs": [
    {
     "name": "stdout",
     "output_type": "stream",
     "text": [
      "------- temperature : 0.5 ----------\n",
      "source:\t translate English to French: In the beginning God created the heavens and the earth.\n",
      "target:\tAu commencement, Dieu créa les cieux et la terre.\n",
      "own generated\tAu début, Dieu a créé les cieux et la terre.\n",
      "Model generated\tAu début, Dieu créa les cieux et la terre.\n",
      "------\n",
      "\n",
      "source:\t translate English to French: Now the earth was formless and empty. Darkness was on the surface of the deep. God's Spirit was hovering over the surface of the waters.\n",
      "target:\tLa terre était informe et vide: il y avait des ténèbres à la surface de l`abîme, et l`esprit de Dieu se mouvait au-dessus des eaux.\n",
      "own generated\tAujourd'hui, la terre était sans forme et vide, la féroce s'est installée sur la surface de la profondeur, et l'Esprit de Dieu a plongé sur la surface des eaux.\n",
      "Model generated\tMaintenant, la terre était sans forme et vide, la fébrilité était sur la surface du profond, l'Esprit de Dieu a établi un aperçu de la surface des eaux.\n",
      "------\n",
      "\n",
      "------- temperature : 0.7 ----------\n",
      "source:\t translate English to French: In the beginning God created the heavens and the earth.\n",
      "target:\tAu commencement, Dieu créa les cieux et la terre.\n",
      "own generated\tAu début Dieu créait les ciels et la terre.\n",
      "Model generated\tAu début, Dieu créa les cieux et la terre.\n",
      "------\n",
      "\n",
      "source:\t translate English to French: Now the earth was formless and empty. Darkness was on the surface of the deep. God's Spirit was hovering over the surface of the waters.\n",
      "target:\tLa terre était informe et vide: il y avait des ténèbres à la surface de l`abîme, et l`esprit de Dieu se mouvait au-dessus des eaux.\n",
      "own generated\tAujourd'hui, la terre était sans forme et vide, la faune se trouvait sur la surface profonde, l'Esprit de Dieu allait sur la surface des eaux.\n",
      "Model generated\tMaintenant, la terre était sans forme et vide, la fébrilité était sur la surface du profond, l'Esprit de Dieu a établi un aperçu de la surface des eaux.\n",
      "------\n",
      "\n",
      "------- temperature : 0.9 ----------\n",
      "source:\t translate English to French: In the beginning God created the heavens and the earth.\n",
      "target:\tAu commencement, Dieu créa les cieux et la terre.\n",
      "own generated\tPour le début, Dieu a créé les cieux et la terre.\n",
      "Model generated\tAu début, Dieu créa les cieux et la terre.\n",
      "------\n",
      "\n",
      "source:\t translate English to French: Now the earth was formless and empty. Darkness was on the surface of the deep. God's Spirit was hovering over the surface of the waters.\n",
      "target:\tLa terre était informe et vide: il y avait des ténèbres à la surface de l`abîme, et l`esprit de Dieu se mouvait au-dessus des eaux.\n",
      "own generated\tCet espace ne se concentre pas sur le statut de personne qui connaît la Vie et conquiert une nouvelle profondeur et une innovation à la fois, que son existence subit la mortalité, l'autopédagogie à la cause d'un élu et que, les sinistres et les chef(e), ce fut souvent le temps de s'occuper de cet élu.\n",
      "Model generated\tMaintenant, la terre était sans forme et vide, la fébrilité était sur la surface du profond, l'Esprit de Dieu a établi un aperçu de la surface des eaux.\n",
      "------\n",
      "\n"
     ]
    }
   ],
   "source": [
    "# Tests with temperature with softmax\n",
    "for t in [0.5, 0.7, 0.9]:\n",
    "  i=0\n",
    "  print(f'------- temperature : {t} ----------')\n",
    "  for input, true in zip(test_input_bible, test_target_bible):\n",
    "    input_ids = tokenizer.batch_encode_plus([input], padding=True, max_length=512, \n",
    "                                            truncation=True, return_tensors=\"pt\").input_ids.to(device)\n",
    "    prediction = temperature_sampling(input_ids, t)[0]\n",
    "    model_prediction_ids = model.generate(input_ids, temperature=t, max_length=512)\n",
    "    model_prediction = tokenizer.batch_decode(model_prediction_ids, skip_special_tokens=True)[0]\n",
    "    print(\"source:\\t {}\\ntarget:\\t{}\\nown generated\\t{}\\nModel generated\\t{}\\n------\\n\".format(input,true,prediction, model_prediction))\n",
    "    i+= 1\n",
    "    if i == 2: break"
   ]
  },
  {
   "cell_type": "markdown",
   "metadata": {
    "id": "D4eATwn-lndP"
   },
   "source": [
    "### **Test with BLEU metric**"
   ]
  },
  {
   "cell_type": "code",
   "execution_count": 18,
   "metadata": {
    "id": "GxM67iuHmZ9k"
   },
   "outputs": [],
   "source": [
    "dict_bleu_metric = {\n",
    "    'bleu_n_beams_1': [],\n",
    "    'bleu_n_beams_2' : [],\n",
    "    'bleu_n_beams_3' : [],\n",
    "    'bleu_n_beams_4' : [],\n",
    "    'bleu_top_p_0.5' : [],\n",
    "    'bleu_top_p_0.7' : [],\n",
    "    'bleu_top_p_0.9' : [],\n",
    "    'bleu_top_p_0.95' : [],\n",
    "    'bleu_top_p_0.5' : [],\n",
    "    'bleu_temp_0.5' : [],\n",
    "    'bleu_temp_0.7' : [],\n",
    "    'bleu_temp_0.9' : []\n",
    "    }\n",
    "\n",
    "for input, true in zip(test_input_bible, test_target_bible):\n",
    "  input_ids = tokenizer.batch_encode_plus([input], padding=True, max_length=512, \n",
    "                                          truncation=True, return_tensors=\"pt\").input_ids.to(device)\n",
    "\n",
    "  for n in [1, 2, 3, 4]:\n",
    "    prediction = beam_search(input_ids, n)[0]\n",
    "    dict_bleu_metric[f'bleu_n_beams_{n}'].append(BLEU_star(true, prediction, 4, 1/4))\n",
    "  \n",
    "  for top_p in [0.5, 0.7, 0.9, 0.95]:\n",
    "    prediction = nucleus_sampling(input_ids, top_p)[0]\n",
    "    dict_bleu_metric[f'bleu_top_p_{top_p}'].append(BLEU_star(true, prediction, 4, 1/4))\n",
    "  \n",
    "  for t in [0.5, 0.7, 0.9]:\n",
    "    prediction = temperature_sampling(input_ids, t)[0]\n",
    "    dict_bleu_metric[f'bleu_temp_{t}'].append(BLEU_star(true, prediction, 4, 1/4))"
   ]
  },
  {
   "cell_type": "code",
   "execution_count": 34,
   "metadata": {
    "colab": {
     "base_uri": "https://localhost:8080/",
     "height": 389
    },
    "id": "mcMPa34zpOno",
    "outputId": "a14be8f9-0c6f-44c4-813f-6c90cfe48ef7"
   },
   "outputs": [
    {
     "data": {
      "image/png": "[encoded data removed]",
      "text/plain": [
       "<Figure size 1440x432 with 1 Axes>"
      ]
     },
     "metadata": {
      "needs_background": "light",
      "tags": []
     },
     "output_type": "display_data"
    }
   ],
   "source": [
    "import pandas as pd\n",
    "import seaborn as sns\n",
    "import matplotlib.pyplot as plt\n",
    "%matplotlib inline\n",
    "\n",
    "df_bleu = pd.DataFrame(dict_bleu_metric).reset_index()\n",
    "decoding_melted = pd.melt(df_bleu, id_vars=\"index\")\n",
    "plt.figure(figsize=(20,6))\n",
    "sns.barplot(data=decoding_melted, x=\"variable\", y=\"value\")\n",
    "plt.show()"
   ]
  },
  {
   "cell_type": "markdown",
   "metadata": {
    "id": "GQD6udUqlXcp"
   },
   "source": [
    "## **Test summarization**"
   ]
  },
  {
   "cell_type": "markdown",
   "metadata": {
    "id": "GZxvFNaslyga"
   },
   "source": [
    "### **Test with text**"
   ]
  },
  {
   "cell_type": "code",
   "execution_count": 45,
   "metadata": {
    "colab": {
     "base_uri": "https://localhost:8080/"
    },
    "id": "o9L8wh9PpaPZ",
    "outputId": "3805d102-f860-4e74-8b31-3cb09d32a80c"
   },
   "outputs": [
    {
     "name": "stdout",
     "output_type": "stream",
     "text": [
      "------- n-beams : 1 ----------\n",
      "source:\t summarize :Fast forward about 20 years, and it's fair to say he has done just that.\n",
      "The business he runs, Frasers Hospitality, is one of the world's biggest providers of high-end serviced apartments. Its 148 properties span about 80 capital cities, as well as financial hubs across Europe, Asia, the Middle East and Africa.\n",
      "But it almost didn't get off the ground.\n",
      "When Mr Choe was appointed to launch and lead the company, Asia was booming; the tiger economies of Hong Kong, South Korea, Taiwan and Singapore were expanding rapidly.\n",
      "But as Frasers prepared to open its first two properties in Singapore, the Asian financial crisis hit.\n",
      "It was 1997. Currencies went into freefall. Suddenly, people were losing their jobs and stopped travelling.\n",
      "Mr Choe recalls asking staff if they really wanted to continue working with the firm, because when the properties opened they might not get paid.\n",
      "\"It was really that serious,\" he says. \"I remember tearing up because they said 'let's open it, let's open it\n",
      "target:\tOn the first day in his new job, Choe Peng Sum was given a fairly simple brief: \"Just go make us a lot of money.\"\n",
      "own generated\tFrasers Hospitality is one of the world's biggest providers of serviced apartments. it is one of the world's biggest providers of high-end serviced apartments. the company is a global provider of services to millennials.\n",
      "Model generated\tFrasers Hospitality is one of the world's biggest providers of serviced apartments. it is one of the world's biggest providers of high-end serviced apartments. the company is a global provider of services to millennials.\n",
      "------\n",
      "\n",
      "source:\t summarize :\"The accident meant the motorway was closed, making travel to Mourneview Park impossible for the team and fans travelling from Belfast,\" said the Irish Football Association.\n",
      "A new date for the match has yet to be confirmed by Uefa.\n",
      "Northern Ireland have three points from their first two Group Six qualifiers.\n",
      "target:\tThe Women's Euro 2017 qualifier between Northern Ireland and the Czech Republic in Lurgan on Friday was postponed after a serious accident on the M1.\n",
      "own generated\tthe accident meant the motorway was closed. the match was a 'comfort' for the team and fans travelling from Belfast.\n",
      "Model generated\tthe accident meant the motorway was closed. the match was a 'comfort' for the team and fans travelling from Belfast.\n",
      "------\n",
      "\n",
      "source:\t summarize :The Sunday Times says the missile veered off course during a test in June last year - weeks before the Commons voted to spend £40bn renewing Trident.\n",
      "Questioned by Andrew Marr, the PM refused to say four times if she had known about the test ahead of the vote.\n",
      "The SNP's Nicola Sturgeon called for a \"full disclosure\" of what happened.\n",
      "According to the Sunday Times, an unarmed Trident II D5 missile veered off in the wrong direction towards the US - instead of towards Africa - when it was launched from a British submarine off the coast of Florida.\n",
      "In July - days after Mrs May had become prime minister - MPs voted overwhelmingly in favour of replacing Trident.\n",
      "During the debate, Mrs May told MPs it would be \"an act of gross irresponsibility\" for the UK to abandon its nuclear weapons.\n",
      "MPs backed its renewal by 472 votes to 117. However, all 52 SNP MPs voted against it - as did Labour leader Jeremy Corbyn.\n",
      "When asked on the BBC's Andrew Marr Show whether she had known then that a \n",
      "target:\tTheresa May is coming under pressure to say whether she knew about a reported misfire of the UK's nuclear weapons system before a crucial Commons vote.\n",
      "own generated\tthe Sunday Times says the missile veered off course during a test in June last year. the missile veered off course towards the us - instead of towards africa. the snp's Nicola Sturgeon called for a \"full disclosure\" of what happened.\n",
      "Model generated\tthe Sunday Times says the missile veered off course during a test in June last year. the missile veered off course towards the us - instead of towards africa. the snp's Nicola Sturgeon called for a \"full disclosure\" of what happened.\n",
      "------\n",
      "\n",
      "------- n-beams : 2 ----------\n",
      "source:\t summarize :Fast forward about 20 years, and it's fair to say he has done just that.\n",
      "The business he runs, Frasers Hospitality, is one of the world's biggest providers of high-end serviced apartments. Its 148 properties span about 80 capital cities, as well as financial hubs across Europe, Asia, the Middle East and Africa.\n",
      "But it almost didn't get off the ground.\n",
      "When Mr Choe was appointed to launch and lead the company, Asia was booming; the tiger economies of Hong Kong, South Korea, Taiwan and Singapore were expanding rapidly.\n",
      "But as Frasers prepared to open its first two properties in Singapore, the Asian financial crisis hit.\n",
      "It was 1997. Currencies went into freefall. Suddenly, people were losing their jobs and stopped travelling.\n",
      "Mr Choe recalls asking staff if they really wanted to continue working with the firm, because when the properties opened they might not get paid.\n",
      "\"It was really that serious,\" he says. \"I remember tearing up because they said 'let's open it, let's open it\n",
      "target:\tOn the first day in his new job, Choe Peng Sum was given a fairly simple brief: \"Just go make us a lot of money.\"\n",
      "own generated\tFrasers Hospitality is one of the world's biggest providers of high-end serviced apartments. it is one of the world's biggest providers of high-end serviced apartments. the company is one of the world's biggest providers of high-end serviced apartments.\n",
      "Model generated\tFrasers Hospitality is one of the world's biggest providers of high-end serviced apartments. it is one of the world's biggest providers of high-end serviced apartments. the company is one of the world's biggest providers of high-end serviced apartments.\n",
      "------\n",
      "\n",
      "source:\t summarize :\"The accident meant the motorway was closed, making travel to Mourneview Park impossible for the team and fans travelling from Belfast,\" said the Irish Football Association.\n",
      "A new date for the match has yet to be confirmed by Uefa.\n",
      "Northern Ireland have three points from their first two Group Six qualifiers.\n",
      "target:\tThe Women's Euro 2017 qualifier between Northern Ireland and the Czech Republic in Lurgan on Friday was postponed after a serious accident on the M1.\n",
      "own generated\tthe accident meant the motorway was closed, making travel to Mourneview Park impossible for the team and fans travelling from Belfast. a new date for the match has yet to be confirmed by Uefa.\n",
      "Model generated\tthe accident meant the motorway was closed, making travel to Mourneview Park impossible for the team and fans travelling from Belfast. a new date for the match has yet to be confirmed by Uefa.\n",
      "------\n",
      "\n",
      "source:\t summarize :The Sunday Times says the missile veered off course during a test in June last year - weeks before the Commons voted to spend £40bn renewing Trident.\n",
      "Questioned by Andrew Marr, the PM refused to say four times if she had known about the test ahead of the vote.\n",
      "The SNP's Nicola Sturgeon called for a \"full disclosure\" of what happened.\n",
      "According to the Sunday Times, an unarmed Trident II D5 missile veered off in the wrong direction towards the US - instead of towards Africa - when it was launched from a British submarine off the coast of Florida.\n",
      "In July - days after Mrs May had become prime minister - MPs voted overwhelmingly in favour of replacing Trident.\n",
      "During the debate, Mrs May told MPs it would be \"an act of gross irresponsibility\" for the UK to abandon its nuclear weapons.\n",
      "MPs backed its renewal by 472 votes to 117. However, all 52 SNP MPs voted against it - as did Labour leader Jeremy Corbyn.\n",
      "When asked on the BBC's Andrew Marr Show whether she had known then that a \n",
      "target:\tTheresa May is coming under pressure to say whether she knew about a reported misfire of the UK's nuclear weapons system before a crucial Commons vote.\n",
      "own generated\tthe Sunday Times says the missile veered off course during a test in June last year. the missile was launched from a British submarine off the coast of Florida. the missile veered off course towards the us - instead of towards africa.\n",
      "Model generated\tthe Sunday Times says the missile veered off course during a test in June last year. the missile was launched from a British submarine off the coast of Florida. the missile veered off course towards the us - instead of towards africa.\n",
      "------\n",
      "\n",
      "------- n-beams : 4 ----------\n",
      "source:\t summarize :Fast forward about 20 years, and it's fair to say he has done just that.\n",
      "The business he runs, Frasers Hospitality, is one of the world's biggest providers of high-end serviced apartments. Its 148 properties span about 80 capital cities, as well as financial hubs across Europe, Asia, the Middle East and Africa.\n",
      "But it almost didn't get off the ground.\n",
      "When Mr Choe was appointed to launch and lead the company, Asia was booming; the tiger economies of Hong Kong, South Korea, Taiwan and Singapore were expanding rapidly.\n",
      "But as Frasers prepared to open its first two properties in Singapore, the Asian financial crisis hit.\n",
      "It was 1997. Currencies went into freefall. Suddenly, people were losing their jobs and stopped travelling.\n",
      "Mr Choe recalls asking staff if they really wanted to continue working with the firm, because when the properties opened they might not get paid.\n",
      "\"It was really that serious,\" he says. \"I remember tearing up because they said 'let's open it, let's open it\n",
      "target:\tOn the first day in his new job, Choe Peng Sum was given a fairly simple brief: \"Just go make us a lot of money.\"\n",
      "own generated\tFrasers Hospitality is one of the world's biggest providers of high-end serviced apartments. its 148 properties span about 80 capital cities, as well as financial hubs across Europe, Asia, the Middle East and Africa. when the firm opened its first two properties in Singapore, the Asian financial crisis hit.\n",
      "Model generated\tFrasers Hospitality is one of the world's biggest providers of high-end serviced apartments. its 148 properties span about 80 capital cities, as well as financial hubs across Europe, Asia, the Middle East and Africa. when the firm opened its first two properties in Singapore, the Asian financial crisis hit.\n",
      "------\n",
      "\n",
      "source:\t summarize :\"The accident meant the motorway was closed, making travel to Mourneview Park impossible for the team and fans travelling from Belfast,\" said the Irish Football Association.\n",
      "A new date for the match has yet to be confirmed by Uefa.\n",
      "Northern Ireland have three points from their first two Group Six qualifiers.\n",
      "target:\tThe Women's Euro 2017 qualifier between Northern Ireland and the Czech Republic in Lurgan on Friday was postponed after a serious accident on the M1.\n",
      "own generated\tthe accident meant the motorway was closed, making travel to Mourneview Park impossible for the team and fans travelling from Belfast. a new date for the match has yet to be confirmed by Uefa.\n",
      "Model generated\tthe accident meant the motorway was closed, making travel to Mourneview Park impossible for the team and fans travelling from Belfast. a new date for the match has yet to be confirmed by Uefa.\n",
      "------\n",
      "\n",
      "source:\t summarize :The Sunday Times says the missile veered off course during a test in June last year - weeks before the Commons voted to spend £40bn renewing Trident.\n",
      "Questioned by Andrew Marr, the PM refused to say four times if she had known about the test ahead of the vote.\n",
      "The SNP's Nicola Sturgeon called for a \"full disclosure\" of what happened.\n",
      "According to the Sunday Times, an unarmed Trident II D5 missile veered off in the wrong direction towards the US - instead of towards Africa - when it was launched from a British submarine off the coast of Florida.\n",
      "In July - days after Mrs May had become prime minister - MPs voted overwhelmingly in favour of replacing Trident.\n",
      "During the debate, Mrs May told MPs it would be \"an act of gross irresponsibility\" for the UK to abandon its nuclear weapons.\n",
      "MPs backed its renewal by 472 votes to 117. However, all 52 SNP MPs voted against it - as did Labour leader Jeremy Corbyn.\n",
      "When asked on the BBC's Andrew Marr Show whether she had known then that a \n",
      "target:\tTheresa May is coming under pressure to say whether she knew about a reported misfire of the UK's nuclear weapons system before a crucial Commons vote.\n",
      "own generated\tthe Sunday Times says the missile veered off course during a test in June last year. the missile was launched from a British submarine off the coast of Florida. in July, MPs voted overwhelmingly in favour of replacing Trident.\n",
      "Model generated\tthe Sunday Times says the missile veered off course during a test in June last year. the missile was launched from a British submarine off the coast of Florida. in July, MPs voted overwhelmingly in favour of replacing Trident.\n",
      "------\n",
      "\n"
     ]
    }
   ],
   "source": [
    "# Tests with n beams\n",
    "for n in [1, 2, 4]:\n",
    "  i=0\n",
    "  print(f'------- n-beams : {n} ----------')\n",
    "  for input, true in zip(test_input_cnn, test_target_cnn):\n",
    "    input_ids = tokenizer.batch_encode_plus([input], padding=True, max_length=512, \n",
    "                                            truncation=True, return_tensors=\"pt\").input_ids.to(device)\n",
    "    prediction = beam_search(input_ids, n)[0]\n",
    "    model_prediction_ids = model.generate(input_ids, num_beams=n, max_length=512)\n",
    "    model_prediction = tokenizer.batch_decode(model_prediction_ids, skip_special_tokens=True)[0]\n",
    "    print(\"source:\\t {}\\ntarget:\\t{}\\nown generated\\t{}\\nModel generated\\t{}\\n------\\n\".format(input[:1000],true,prediction, model_prediction))\n",
    "    i+= 1\n",
    "    if i == 3: break"
   ]
  },
  {
   "cell_type": "markdown",
   "metadata": {
    "id": "Y_AIB05QlupN"
   },
   "source": [
    "### **Test with ROUGE metric**"
   ]
  },
  {
   "cell_type": "code",
   "execution_count": 42,
   "metadata": {
    "id": "WSdtzw2kpjWl"
   },
   "outputs": [],
   "source": [
    "dict_rouge_metric = {\n",
    "    'rouge_n_beams_1': [],\n",
    "    'rouge_n_beams_2' : [],\n",
    "    'rouge_n_beams_4' : [],\n",
    "    'rouge_top_p_0.5' : [],\n",
    "    'rouge_top_p_0.7' : [],\n",
    "    'rouge_top_p_0.9' : [],\n",
    "    'rouge_top_p_0.95' : [],\n",
    "    'rouge_top_p_0.5' : [],\n",
    "    'rouge_temp_0.5' : [],\n",
    "    'rouge_temp_0.7' : [],\n",
    "    'rouge_temp_0.9' : []\n",
    "    }\n",
    "\n",
    "for input, true in zip(test_input_cnn, test_target_cnn):\n",
    "  input_ids = tokenizer.batch_encode_plus([input], padding=True, max_length=512, \n",
    "                                          truncation=True, return_tensors=\"pt\").input_ids.to(device)\n",
    "\n",
    "  for n in [1, 2, 4]:\n",
    "    prediction = beam_search(input_ids, n)[0]\n",
    "    score = rouge_true.score(prediction, [true])['rouge-l']['f1']\n",
    "    dict_rouge_metric[f'rouge_n_beams_{n}'].append(score)\n",
    "  \n",
    "  for top_p in [0.5, 0.7, 0.9, 0.95]:\n",
    "    prediction = nucleus_sampling(input_ids, top_p)[0]\n",
    "    score = rouge_true.score(prediction, [true])['rouge-l']['f1']\n",
    "    dict_rouge_metric[f'rouge_top_p_{top_p}'].append(score)\n",
    "  \n",
    "  for t in [0.5, 0.7, 0.9]:\n",
    "    prediction = temperature_sampling(input_ids, t)[0]\n",
    "    score = rouge_true.score(prediction, [true])['rouge-l']['f1']\n",
    "    dict_rouge_metric[f'rouge_temp_{t}'].append(score)\n"
   ]
  },
  {
   "cell_type": "code",
   "execution_count": 43,
   "metadata": {
    "colab": {
     "base_uri": "https://localhost:8080/",
     "height": 389
    },
    "id": "CWVkyADZ28Ol",
    "outputId": "1aa78b87-cb23-408c-930a-e3de6a576724"
   },
   "outputs": [
    {
     "data": {
      "image/png": "[encoded data removed]",
      "text/plain": [
       "<Figure size 1440x432 with 1 Axes>"
      ]
     },
     "metadata": {
      "needs_background": "light",
      "tags": []
     },
     "output_type": "display_data"
    }
   ],
   "source": [
    "import pandas as pd\n",
    "import seaborn as sns\n",
    "import matplotlib.pyplot as plt\n",
    "%matplotlib inline\n",
    "\n",
    "df_bleu = pd.DataFrame(dict_rouge_metric).reset_index()\n",
    "decoding_melted = pd.melt(df_bleu, id_vars=\"index\")\n",
    "plt.figure(figsize=(20,6))\n",
    "sns.barplot(data=decoding_melted, x=\"variable\", y=\"value\")\n",
    "plt.show()"
   ]
  },
  {
   "cell_type": "markdown",
   "metadata": {
    "id": "4aOWrlnlBGDL"
   },
   "source": [
    "### Test for question answering"
   ]
  },
  {
   "cell_type": "code",
   "execution_count": 44,
   "metadata": {
    "colab": {
     "base_uri": "https://localhost:8080/"
    },
    "id": "B1S3QQT22_nG",
    "outputId": "2ba05261-152e-4ee4-b1b3-9a7ef27ca366"
   },
   "outputs": [
    {
     "name": "stdout",
     "output_type": "stream",
     "text": [
      "------- n-beams : 1 ----------\n",
      "source:\t question : does ethanol take more energy make that produces context : All biomass goes through at least some of these steps: it needs to be grown, collected, dried, fermented, distilled, and burned. All of these steps require resources and an infrastructure. The total amount of energy input into the process compared to the energy released by burning the resulting ethanol fuel is known as the energy balance (or ``energy returned on energy invested''). Figures compiled in a 2007 report by National Geographic Magazine point to modest results for corn ethanol produced in the US: one unit of fossil-fuel energy is required to create 1.3 energy units from the resulting ethanol. The energy balance for sugarcane ethanol produced in Brazil is more favorable, with one unit of fossil-fuel energy required to create 8 from the ethanol. Energy balance estimates are not easily produced, thus numerous such reports have been generated that are contradictory. For instance, a separate survey reports that production of ethanol from sugarcane, which requires a tropical climate to grow productively, returns from 8 to 9 units of energy for each unit expended, as compared to corn, which only returns about 1.34 units of fuel energy for each unit of energy expended. A 2006 University of California Berkeley study, after analyzing six separate studies, concluded that producing ethanol from corn uses much less petroleum than producing gasoline.\n",
      "target:\tFalse\n",
      "own generated\tproduction of ethanol from sugarcane, which requires a tropical climate to grow productively, returns from 8 to 9 units of energy for each unit expended, as compared to corn, which only returns about 1.34 units of fuel energy for each unit of energy expended\n",
      "Model generated\tproduction of ethanol from sugarcane, which requires a tropical climate to grow productively, returns from 8 to 9 units of energy for each unit expended, as compared to corn, which only returns about 1.34 units of fuel energy for each unit of energy expended\n",
      "------\n",
      "\n",
      "source:\t question : is house tax and property tax are same context : Property tax or 'house tax' is a local tax on buildings, along with appurtenant land. It is and imposed on the Possessor (not the custodian of property as per 1978, 44th amendment of constitution). It resembles the US-type wealth tax and differs from the excise-type UK rate. The tax power is vested in the states and is delegated to local bodies, specifying the valuation method, rate band, and collection procedures. The tax base is the annual rental value (ARV) or area-based rating. Owner-occupied and other properties not producing rent are assessed on cost and then converted into ARV by applying a percentage of cost, usually four percent. Vacant land is generally exempt. Central government properties are exempt. Instead a 'service charge' is permissible under executive order. Properties of foreign missions also enjoy tax exemption without requiring reciprocity. The tax is usually accompanied by service taxes, e.g., water tax, drainage tax, conservancy (sanitation) tax, lighting tax, all using the same tax base. The rate structure is flat on rural (panchayat) properties, but in the urban (municipal) areas it is mildly progressive with about 80% of assessments falling in the first two brackets.\n",
      "target:\tTrue\n",
      "own generated\tproperty tax or 'house tax' is a local tax on buildings, along with appurtenant land\n",
      "Model generated\tproperty tax or 'house tax' is a local tax on buildings, along with appurtenant land\n",
      "------\n",
      "\n",
      "source:\t question : is pain experienced in a missing body part or paralyzed area context : Phantom pain sensations are described as perceptions that an individual experiences relating to a limb or an organ that is not physically part of the body. Limb loss is a result of either removal by amputation or congenital limb deficiency. However, phantom limb sensations can also occur following nerve avulsion or spinal cord injury.\n",
      "target:\tTrue\n",
      "own generated\tparalyzed area\n",
      "Model generated\tparalyzed area\n",
      "------\n",
      "\n",
      "------- n-beams : 2 ----------\n",
      "source:\t question : does ethanol take more energy make that produces context : All biomass goes through at least some of these steps: it needs to be grown, collected, dried, fermented, distilled, and burned. All of these steps require resources and an infrastructure. The total amount of energy input into the process compared to the energy released by burning the resulting ethanol fuel is known as the energy balance (or ``energy returned on energy invested''). Figures compiled in a 2007 report by National Geographic Magazine point to modest results for corn ethanol produced in the US: one unit of fossil-fuel energy is required to create 1.3 energy units from the resulting ethanol. The energy balance for sugarcane ethanol produced in Brazil is more favorable, with one unit of fossil-fuel energy required to create 8 from the ethanol. Energy balance estimates are not easily produced, thus numerous such reports have been generated that are contradictory. For instance, a separate survey reports that production of ethanol from sugarcane, which requires a tropical climate to grow productively, returns from 8 to 9 units of energy for each unit expended, as compared to corn, which only returns about 1.34 units of fuel energy for each unit of energy expended. A 2006 University of California Berkeley study, after analyzing six separate studies, concluded that producing ethanol from corn uses much less petroleum than producing gasoline.\n",
      "target:\tFalse\n",
      "own generated\tproduction of ethanol from sugarcane, which requires a tropical climate to grow productively, returns from 8 to 9 units of energy for each unit expended, as compared to corn, which only returns about 1.34 units of fuel energy for each unit of energy expended\n",
      "Model generated\tproduction of ethanol from sugarcane, which requires a tropical climate to grow productively, returns from 8 to 9 units of energy for each unit expended, as compared to corn, which only returns about 1.34 units of fuel energy for each unit of energy expended\n",
      "------\n",
      "\n",
      "source:\t question : is house tax and property tax are same context : Property tax or 'house tax' is a local tax on buildings, along with appurtenant land. It is and imposed on the Possessor (not the custodian of property as per 1978, 44th amendment of constitution). It resembles the US-type wealth tax and differs from the excise-type UK rate. The tax power is vested in the states and is delegated to local bodies, specifying the valuation method, rate band, and collection procedures. The tax base is the annual rental value (ARV) or area-based rating. Owner-occupied and other properties not producing rent are assessed on cost and then converted into ARV by applying a percentage of cost, usually four percent. Vacant land is generally exempt. Central government properties are exempt. Instead a 'service charge' is permissible under executive order. Properties of foreign missions also enjoy tax exemption without requiring reciprocity. The tax is usually accompanied by service taxes, e.g., water tax, drainage tax, conservancy (sanitation) tax, lighting tax, all using the same tax base. The rate structure is flat on rural (panchayat) properties, but in the urban (municipal) areas it is mildly progressive with about 80% of assessments falling in the first two brackets.\n",
      "target:\tTrue\n",
      "own generated\tproperty tax or 'house tax' is a local tax on buildings, along with appurtenant land\n",
      "Model generated\tproperty tax or 'house tax' is a local tax on buildings, along with appurtenant land\n",
      "------\n",
      "\n",
      "source:\t question : is pain experienced in a missing body part or paralyzed area context : Phantom pain sensations are described as perceptions that an individual experiences relating to a limb or an organ that is not physically part of the body. Limb loss is a result of either removal by amputation or congenital limb deficiency. However, phantom limb sensations can also occur following nerve avulsion or spinal cord injury.\n",
      "target:\tTrue\n",
      "own generated\tparalyzed area\n",
      "Model generated\tparalyzed area\n",
      "------\n",
      "\n",
      "------- n-beams : 4 ----------\n",
      "source:\t question : does ethanol take more energy make that produces context : All biomass goes through at least some of these steps: it needs to be grown, collected, dried, fermented, distilled, and burned. All of these steps require resources and an infrastructure. The total amount of energy input into the process compared to the energy released by burning the resulting ethanol fuel is known as the energy balance (or ``energy returned on energy invested''). Figures compiled in a 2007 report by National Geographic Magazine point to modest results for corn ethanol produced in the US: one unit of fossil-fuel energy is required to create 1.3 energy units from the resulting ethanol. The energy balance for sugarcane ethanol produced in Brazil is more favorable, with one unit of fossil-fuel energy required to create 8 from the ethanol. Energy balance estimates are not easily produced, thus numerous such reports have been generated that are contradictory. For instance, a separate survey reports that production of ethanol from sugarcane, which requires a tropical climate to grow productively, returns from 8 to 9 units of energy for each unit expended, as compared to corn, which only returns about 1.34 units of fuel energy for each unit of energy expended. A 2006 University of California Berkeley study, after analyzing six separate studies, concluded that producing ethanol from corn uses much less petroleum than producing gasoline.\n",
      "target:\tFalse\n",
      "own generated\tproduction of ethanol from sugarcane, which requires a tropical climate to grow productively, returns from 8 to 9 units of energy for each unit expended, as compared to corn, which only returns about 1.34 units of fuel energy for each unit of energy expended\n",
      "Model generated\tproduction of ethanol from sugarcane, which requires a tropical climate to grow productively, returns from 8 to 9 units of energy for each unit expended, as compared to corn, which only returns about 1.34 units of fuel energy for each unit of energy expended\n",
      "------\n",
      "\n",
      "source:\t question : is house tax and property tax are same context : Property tax or 'house tax' is a local tax on buildings, along with appurtenant land. It is and imposed on the Possessor (not the custodian of property as per 1978, 44th amendment of constitution). It resembles the US-type wealth tax and differs from the excise-type UK rate. The tax power is vested in the states and is delegated to local bodies, specifying the valuation method, rate band, and collection procedures. The tax base is the annual rental value (ARV) or area-based rating. Owner-occupied and other properties not producing rent are assessed on cost and then converted into ARV by applying a percentage of cost, usually four percent. Vacant land is generally exempt. Central government properties are exempt. Instead a 'service charge' is permissible under executive order. Properties of foreign missions also enjoy tax exemption without requiring reciprocity. The tax is usually accompanied by service taxes, e.g., water tax, drainage tax, conservancy (sanitation) tax, lighting tax, all using the same tax base. The rate structure is flat on rural (panchayat) properties, but in the urban (municipal) areas it is mildly progressive with about 80% of assessments falling in the first two brackets.\n",
      "target:\tTrue\n",
      "own generated\tproperty tax or 'house tax' is a local tax on buildings, along with appurtenant land\n",
      "Model generated\tproperty tax or 'house tax' is a local tax on buildings, along with appurtenant land\n",
      "------\n",
      "\n",
      "source:\t question : is pain experienced in a missing body part or paralyzed area context : Phantom pain sensations are described as perceptions that an individual experiences relating to a limb or an organ that is not physically part of the body. Limb loss is a result of either removal by amputation or congenital limb deficiency. However, phantom limb sensations can also occur following nerve avulsion or spinal cord injury.\n",
      "target:\tTrue\n",
      "own generated\tparalyzed area\n",
      "Model generated\tparalyzed area\n",
      "------\n",
      "\n"
     ]
    }
   ],
   "source": [
    "# Tests with n beams\n",
    "for n in [1, 2, 4]:\n",
    "  i=0\n",
    "  print(f'------- n-beams : {n} ----------')\n",
    "  for input, true in zip(test_input_boolq, test_target_boolq):\n",
    "    input_ids = tokenizer.batch_encode_plus([input], padding=True, max_length=512, \n",
    "                                            truncation=True, return_tensors=\"pt\").input_ids.to(device)\n",
    "    prediction = beam_search(input_ids, n)[0]\n",
    "    model_prediction_ids = model.generate(input_ids, num_beams=n, max_length=512)\n",
    "    model_prediction = tokenizer.batch_decode(model_prediction_ids, skip_special_tokens=True)[0]\n",
    "    print(\"source:\\t {}\\ntarget:\\t{}\\nown generated\\t{}\\nModel generated\\t{}\\n------\\n\".format(input,true,prediction, model_prediction))\n",
    "    i+= 1\n",
    "    if i == 3: break"
   ]
  },
  {
   "cell_type": "markdown",
   "metadata": {
    "id": "ZzNXXIkNlgRi"
   },
   "source": [
    "## **Report**"
   ]
  },
  {
   "cell_type": "markdown",
   "metadata": {
    "id": "kwDtN0pRrOi-"
   },
   "source": [
    "In this section, we implemented three different decoders for Natural Language generation : Translation, Summarization and Question answering. The three decoders are : n-beams decoder, nucleus sampling and temperature with Softmax sampling, parametrized respectively by : n-beams (number of beams), top-p (probability maximum of the cumulative sum of the probabilities) and temperature. \n",
    "We tested these decoders with different parametrization. Firstly, on a text-based aspect to see if the results were visually good (especially for translation and summarization). And then, we calculated metrics in order to evaluate these decoders. For the translation, we choose the BLEU metric that we created earlier on bible para dataset and for summarization, we choose the ROUGE-L metric implemented in scarerouge library on xsum dataset.\n",
    "\n",
    "For machine translation, the best decoder turned out to be : the n-beams decoder in particular the 2-beams and 4-beams. It was expected because the beams decoder works really fine with translation as it computes the best probabilities of a suite of words.\n",
    "\n",
    "For summarization, the best decoder turned out to be : the nucleus samping (in particular 0.5 for the top_p probability) and the n-beams look very great too. It can be due that summary is not about giving correct answers, so it has not a 'true' answer for this.\n",
    "\n",
    "For question answering, no decoders seems to work well on the boolq dataset.\n",
    "\n",
    "However, when we did some experiments with the three decoders, beam search reveals to be the most time consuming because beam search has an exponential complexity and therefore it becomes very time-consuming when n_beams increases. But, in the results, it turns out that when you increase the number of beans, it leads to better predictions. So, you have to find a compromise between rapidity and precision. Compared to the other 2 decoders that look pretty fast (as the sampling is done by pytorch and it is really optimized)."
   ]
  },
  {
   "cell_type": "markdown",
   "metadata": {
    "id": "0NQO0b81T2a_"
   },
   "source": [
    "# Deliverable 2.1"
   ]
  },
  {
   "cell_type": "code",
   "execution_count": null,
   "metadata": {
    "id": "WjJVE7tTVylk"
   },
   "outputs": [],
   "source": [
    "# Imports\n",
    "import matplotlib.pyplot as plt\n",
    "import seaborn\n",
    "import numpy as np\n",
    "\n",
    "# functions for 2.1\n",
    "\n",
    "def draw(data, x, y, ax):\n",
    "    seaborn.heatmap(data, \n",
    "                    xticklabels=x, square=True, yticklabels=y, vmin=0.0, vmax=1.0, \n",
    "                    cbar=False, ax=ax)\n",
    "    \n",
    "def get_attentions(model, tokenizer, sentence, sample_index = 0, limit=None):\n",
    "  # get ids of input\n",
    "  input_ids = tokenizer(sentence, return_tensors=\"pt\").input_ids.to(\"cuda\")\n",
    "  if limit:\n",
    "    input_ids = input_ids[0][:limit].reshape((1, limit))\n",
    "  # get ids of output\n",
    "  output_ids = tokenizer(output_decoded, add_special_tokens=False, return_tensors=\"pt\").input_ids.to(\"cuda\")\n",
    "  outputs = model(input_ids=input_ids, decoder_input_ids=output_ids, output_attentions=True)\n",
    "\n",
    "  ## Step 3: Convert input and output into tokens\n",
    "  input_id_list = input_ids[sample_index].tolist()\n",
    "  tokens_in = tokenizer.convert_ids_to_tokens(input_id_list)\n",
    "\n",
    "  output_id_list = output_ids[sample_index].tolist()\n",
    "  tokens_out = tokenizer.convert_ids_to_tokens(output_id_list)\n",
    "  return outputs, tokens_in, tokens_out\n",
    "\n",
    "def plot_cross_attention(outputs, tokens_in, tokens_out, aggregation=False):\n",
    "  if aggregation == True:\n",
    "    for layer in range(0, 6, 1):\n",
    "        fig, axs = plt.subplots(1,1, figsize=(10, 10))\n",
    "        print(\"\\nAttention Layer\", layer+1)\n",
    "        attention_sum = 0\n",
    "        for h in range(8):\n",
    "          attention_sum += outputs.cross_attentions[layer][0, h].cpu().data\n",
    "        draw(attention_sum, \n",
    "            tokens_in, tokens_out, ax=axs)\n",
    "        plt.show()\n",
    "  else:\n",
    "    for layer in range(0, 6, 1):\n",
    "        fig, axs = plt.subplots(1,8, figsize=(30, 20))\n",
    "        print(\"Attention Layer\", layer+1)\n",
    "        for h in range(8):\n",
    "            draw(outputs.cross_attentions[layer][0, h].cpu().data, \n",
    "                tokens_in, tokens_out if h == 0 else [], ax=axs[h])\n",
    "        plt.show()"
   ]
  },
  {
   "cell_type": "markdown",
   "metadata": {
    "id": "hrbRo4ZDVkQY"
   },
   "source": [
    "## Bible para dataset for translation"
   ]
  },
  {
   "cell_type": "code",
   "execution_count": null,
   "metadata": {
    "id": "BPTUs2vqoyBy"
   },
   "outputs": [],
   "source": [
    "# # Poor performer\n",
    "# sample_index = 46\n",
    "\n",
    "#Good performer\n",
    "sample_index = 56\n",
    "\n",
    "## Step 1: apply model\n",
    "model = T5ForConditionalGeneration.from_pretrained('t5-small',output_attentions=True).to('cuda')\n",
    "tokenizer = T5Tokenizer.from_pretrained('t5-small')\n",
    "sentence = test_input_bible[sample_index]\n",
    "sentence_tokenized = test_input_encodings_bible[sample_index]\n",
    "# the translated sentence encoded (vector)\n",
    "output = model.generate(sentence_tokenized.reshape((1,len(sentence_tokenized))),\n",
    "                        max_length=512)\n",
    "# the translated sentence decoded (string)\n",
    "output_decoded = tokenizer.batch_decode(output, skip_special_tokens=True)\n",
    "\n",
    "\n",
    "## Step 2 & 3: Recover info for vis\n",
    "outputs, tokens_in, tokens_out = get_attentions(model, tokenizer, sentence, sample_index = 0)\n",
    "\n",
    "## Step 4: Plot attention layers\n",
    "plot_cross_attention(outputs, tokens_in, tokens_out, aggregation=False)"
   ]
  },
  {
   "cell_type": "code",
   "execution_count": null,
   "metadata": {
    "id": "A6jrFiX2spWL"
   },
   "outputs": [],
   "source": [
    "plot_cross_attention(outputs, tokens_in, tokens_out, aggregation=True)"
   ]
  },
  {
   "cell_type": "markdown",
   "metadata": {
    "id": "S0_qniSjT35D"
   },
   "source": [
    "## CNN daily mail dataset for summarization"
   ]
  },
  {
   "cell_type": "code",
   "execution_count": null,
   "metadata": {
    "id": "jittHvoGOyCL"
   },
   "outputs": [],
   "source": [
    "# get a short text for visualisation purposes\n",
    "for idx, i in enumerate(test_input_cnn):\n",
    "  if len(i) < 500:\n",
    "    print(i)\n",
    "    print(idx)\n",
    "    break"
   ]
  },
  {
   "cell_type": "code",
   "execution_count": null,
   "metadata": {
    "id": "EA3m8kOZO1MF"
   },
   "outputs": [],
   "source": [
    "## Step 1: apply model\n",
    "model = T5ForConditionalGeneration.from_pretrained('t5-small',output_attentions=True).to('cuda')\n",
    "tokenizer = T5Tokenizer.from_pretrained('t5-small')\n",
    "\n",
    "# We use this example for simplicity\n",
    "sentence = test_input_cnn[1]\n",
    "# sentence = 'summarize :Fast forward about 20 years, and its fair to say he has done just that.' \\\n",
    "#            'The business he runs, Frasers Hospitality, is one of the world biggest providers of high-end' \\\n",
    "#            'serviced apartments. Its 148 properties span about 80 capital cities, as well as financial hubs across Europe,' \\\n",
    "#            'Asia, the Middle East and Africa.\\nBut it almost didnt get off the ground'\n",
    "sentence_tokenized = test_input_encodings_cnn[sample_index]\n",
    "\n",
    "#---------------------\n",
    "# We have to limit the number of words in the input text for visualisation purposes\n",
    "limit = 50\n",
    "sentence_tokenized_small = sentence_tokenized #[:limit]\n",
    "#--------------------\n",
    "\n",
    "# the translated sentence encoded (vector)\n",
    "output = model.generate(sentence_tokenized_small.reshape((1,len(sentence_tokenized_small))),\n",
    "                        max_length=512)\n",
    "# the translated sentence decoded (string)\n",
    "output_decoded = tokenizer.batch_decode(output, skip_special_tokens=True)\n",
    "\n",
    "## Step 2 & 3: Recover info for vis\n",
    "outputs, tokens_in, tokens_out = get_attentions(model, tokenizer, sentence,\n",
    "                                                sample_index = 0)\n",
    "\n",
    "## Step 4: Plot attention layers\n",
    "plot_cross_attention(outputs, tokens_in, tokens_out, aggregation=True)"
   ]
  },
  {
   "cell_type": "markdown",
   "metadata": {
    "id": "9w6NdmT5ViAi"
   },
   "source": [
    "## Boolq data set for question answering"
   ]
  },
  {
   "cell_type": "code",
   "execution_count": null,
   "metadata": {
    "id": "g0XkWmgrVryS"
   },
   "outputs": [],
   "source": [
    "# get a short question for visualisation purposes\n",
    "for idx, i in enumerate(test_input_boolq):\n",
    "  if len(i) < 200:\n",
    "    print(i)\n",
    "    print(idx)\n",
    "    break"
   ]
  },
  {
   "cell_type": "code",
   "execution_count": null,
   "metadata": {
    "id": "NU3ihJ3oO_cz"
   },
   "outputs": [],
   "source": [
    "sample_index = 8\n",
    "\n",
    "## Step 1: apply model\n",
    "model = AutoModelForSeq2SeqLM.from_pretrained(\"mrm8488/t5-small-finetuned-boolq\").to('cuda')\n",
    "tokenizer = T5Tokenizer.from_pretrained('t5-small')\n",
    "\n",
    "sentence = test_input_boolq[sample_index]\n",
    "sentence_tokenized = test_input_encodings_boolq[sample_index]\n",
    "\n",
    "# We have to limit the number of words in the input text for visualisation purposes\n",
    "sentence_tokenized_small = sentence_tokenized[:30]\n",
    "\n",
    "# the translated sentence encoded (vector)\n",
    "output = model.generate(sentence_tokenized.reshape((1,len(sentence_tokenized))),\n",
    "                        max_length=512)\n",
    "# the translated sentence decoded (string)\n",
    "output_decoded = tokenizer.batch_decode(output, skip_special_tokens=True)\n",
    "\n",
    "## Step 2 & 3: Recover info for vis\n",
    "outputs, tokens_in, tokens_out = get_attentions(model, tokenizer, sentence, sample_index = 0)\n",
    "\n",
    "## Step 4: Plot attention layers\n",
    "plot_cross_attention(outputs, tokens_in, tokens_out, aggregation=True)"
   ]
  },
  {
   "cell_type": "markdown",
   "metadata": {
    "id": "GJ9wGoYBPBCW"
   },
   "source": [
    "## Report\n",
    "\n",
    "For each tasks, we visualized the cross-attention matrices for each head and each layer or did an aggregation of all attention heads for each layer using a summation operation. For each task, aggregation is usually very useful to derive an intuition from the model attention scores as they are large variances between heads.\n",
    "\n",
    "The first element to consider is that for all tasks, the prefix of each input (in our case it is the task translate/answer/summarise) receives the most attention, which makes a lot of sense as the model will respond very differently depending on the task it performs.\n",
    "\n",
    "Then, each task has its specificities. For the translation problem, one may notice that when we aggregate attention scores, we notice a clear diagonal line in the cross-attention matrix at each layer when the model performs well (sample 56 has a BLEU score of 51/100) and no diagonal line when it does poorly (sample 46 has a BLEU score of 0). Moreover, it is interesting to note that tokens representing the end of a sentence (/s or .) get a lot of attention. This does make sense as the model will try to deduce synctactic and semantic relations to make a translation and knowing how to seperate sentences is crucial for this task.\n",
    "\n",
    "For summarisations, the cross-attention matrix is very sparse which is very sensible. It gives importance to words who are themselves selected as being good representation of the abstract itself.\n",
    "\n",
    "Finally, question answering are very similar to summarisation problem in the sense that words that are  useful in answering the question get highlighted. However, in most cases only one word is used as a predictor. This leads us to believe that the model would probably perform more poorly if information must be retrieved from several locations in the text.\n",
    "\n",
    "We could further aggregate cross-attention scores of each layers for even better to visualise these patterns even more clearly.\n",
    "\n"
   ]
  },
  {
   "cell_type": "markdown",
   "metadata": {
    "id": "N-69WUb2PH8B"
   },
   "source": [
    "# Deliverable 2.2"
   ]
  },
  {
   "cell_type": "markdown",
   "metadata": {
    "id": "42IjVQa-YQId"
   },
   "source": [
    "From the paper: We define the “confidence” of a head as the average of its maximum attention weight excluding the end of sentence symbol, where averageis taken over tokens in a set of sentences used for evaluation (development set). A confident head is one that usually assigns a high proportion of its attention to a single token. \n",
    "\n"
   ]
  },
  {
   "cell_type": "code",
   "execution_count": 90,
   "metadata": {
    "executionInfo": {
     "elapsed": 927,
     "status": "ok",
     "timestamp": 1617551965063,
     "user": {
      "displayName": "Mathieu TARDY",
      "photoUrl": "",
      "userId": "14129872026631470354"
     },
     "user_tz": -480
    },
    "id": "sjF0_wJEl96-"
   },
   "outputs": [],
   "source": [
    "def plotting_confidence_score(datasetname,title):\n",
    "\n",
    "  #------------------------------ same base as 2.1 to get outputs\n",
    "  ## Step 1: apply model\n",
    "  model = T5ForConditionalGeneration.from_pretrained('t5-small',output_attentions=True).to('cuda')\n",
    "  tokenizer = T5Tokenizer.from_pretrained('t5-small')\n",
    "  #------------------------------\n",
    "  attention_matrices = []\n",
    "\n",
    "  for sample_index in range(len(datasetname)):\n",
    "    sentence = datasetname[sample_index]\n",
    "    sentence_tokenized = test_input_encodings_bible[sample_index]\n",
    "    # the translated sentence encoded (vector)\n",
    "    output = model.generate(sentence_tokenized.reshape((1,len(sentence_tokenized))),\n",
    "                            max_length=512)\n",
    "    ## Step 2 & 3: Recover info for vis\n",
    "    outputs, tokens_in, tokens_out = get_attentions(model, tokenizer, sentence, sample_index = 0)\n",
    "\n",
    "    array = []\n",
    "    for layer in range(len(outputs.cross_attentions)):\n",
    "      layer_max_scores = []\n",
    "      for heads in range(outputs.cross_attentions[layer].shape[1]):\n",
    "        layer_max_scores.append(torch.max(outputs.cross_attentions[layer][0,heads].cpu().data).numpy())\n",
    "      array.append(layer_max_scores)\n",
    "    attention_matrices.append(array)\n",
    "\n",
    "  attention = np.mean( np.array(attention_matrices), axis=0 )\n",
    "\n",
    "  # Plot heat map\n",
    "  heatmap = seaborn.heatmap(attention)\n",
    "  plt.ylabel(\"Layers\")\n",
    "  plt.xlabel(\"Heads\") \n",
    "  plt.title(title)\n",
    "  plt.show()"
   ]
  },
  {
   "cell_type": "code",
   "execution_count": 91,
   "metadata": {
    "colab": {
     "base_uri": "https://localhost:8080/",
     "height": 295
    },
    "executionInfo": {
     "elapsed": 74776,
     "status": "ok",
     "timestamp": 1617552041418,
     "user": {
      "displayName": "Mathieu TARDY",
      "photoUrl": "",
      "userId": "14129872026631470354"
     },
     "user_tz": -480
    },
    "id": "tqbMMZUya7q-",
    "outputId": "9d71bd8e-595a-4555-c304-14be8ce0e13a"
   },
   "outputs": [
    {
     "data": {
      "image/png": "[encoded data removed]",
      "text/plain": [
       "<Figure size 432x288 with 2 Axes>"
      ]
     },
     "metadata": {
      "needs_background": "light",
      "tags": []
     },
     "output_type": "display_data"
    }
   ],
   "source": [
    "# Translation - Bible para dataset\n",
    "plotting_confidence_score(test_input_bible,\"Translation Attention\")"
   ]
  },
  {
   "cell_type": "code",
   "execution_count": 92,
   "metadata": {
    "colab": {
     "base_uri": "https://localhost:8080/",
     "height": 332
    },
    "executionInfo": {
     "elapsed": 81381,
     "status": "ok",
     "timestamp": 1617552122808,
     "user": {
      "displayName": "Mathieu TARDY",
      "photoUrl": "",
      "userId": "14129872026631470354"
     },
     "user_tz": -480
    },
    "id": "JOovUf3Ia9Qw",
    "outputId": "366306b7-c085-4290-f8ab-43ecb13b6685"
   },
   "outputs": [
    {
     "name": "stderr",
     "output_type": "stream",
     "text": [
      "Token indices sequence length is longer than the specified maximum sequence length for this model (1310 > 512). Running this sequence through the model will result in indexing errors\n"
     ]
    },
    {
     "data": {
      "image/png": "[encoded data removed]",
      "text/plain": [
       "<Figure size 432x288 with 2 Axes>"
      ]
     },
     "metadata": {
      "needs_background": "light",
      "tags": []
     },
     "output_type": "display_data"
    }
   ],
   "source": [
    "# Summarisation - CNN daily mail dataset\n",
    "plotting_confidence_score(test_input_cnn,\"Summarisation Attention\")"
   ]
  },
  {
   "cell_type": "code",
   "execution_count": 93,
   "metadata": {
    "colab": {
     "base_uri": "https://localhost:8080/",
     "height": 332
    },
    "executionInfo": {
     "elapsed": 155902,
     "status": "ok",
     "timestamp": 1617552197338,
     "user": {
      "displayName": "Mathieu TARDY",
      "photoUrl": "",
      "userId": "14129872026631470354"
     },
     "user_tz": -480
    },
    "id": "irSGZOXsh14X",
    "outputId": "518d75dc-89e4-4f94-f0f2-4d8f261220bd"
   },
   "outputs": [
    {
     "name": "stderr",
     "output_type": "stream",
     "text": [
      "Token indices sequence length is longer than the specified maximum sequence length for this model (825 > 512). Running this sequence through the model will result in indexing errors\n"
     ]
    },
    {
     "data": {
      "image/png": "[encoded data removed]",
      "text/plain": [
       "<Figure size 432x288 with 2 Axes>"
      ]
     },
     "metadata": {
      "needs_background": "light",
      "tags": []
     },
     "output_type": "display_data"
    }
   ],
   "source": [
    "# Question Answering - Boolq\n",
    "plotting_confidence_score(test_input_boolq,\"Q&A Attention\")"
   ]
  },
  {
   "cell_type": "markdown",
   "metadata": {
    "id": "mFHy2fL4iv6a"
   },
   "source": [
    "## Report\n",
    "\n",
    "On the translation task, we can see that in most heads, the model outputs very high attention scores for at least one word. This is sensible as word like \"the\" and \"a\" are often straightforward to translate and thus have high attention scores. It seems that for this specific task most of heads help in determining important words, which are words that are likely to be the right match in the translation.\n",
    "\n",
    "For the summarisation task, only one head has on average high max attention score. It makes sense has it is very hard to say that a word is a good representation of an entire text. Summarisation will most often be a grouping of words which constitutes the summary and will rarely have a single word being a perfect candidate that summarises the text.\n",
    "\n",
    "For the question and answering task, the confidence score heatmap seems in the middle of the two above tasks. The average high max attention is fairly high for all heads. Again, this meets our expectations. The model usually have a good idea about which word consitutes the answer and therefore outputs high attention score. This validates our previous takeaway. Indeed, Q&A tasks tend to extract at least one important word that constitutes the answer."
   ]
  }
 ],
 "metadata": {
  "accelerator": "GPU",
  "colab": {
   "collapsed_sections": [
    "nGolj47xEjZ6",
    "jo_HHd-hNJXc",
    "BG0ofabkNSbQ",
    "Wr2Cv1i2Er4Y",
    "SRVoIJjLFRcc",
    "bGrxSLiyE7fn"
   ],
   "name": "TP3_NLP.ipynb",
   "provenance": []
  },
  "kernelspec": {
   "display_name": "Python 3",
   "language": "python",
   "name": "python3"
  },
  "language_info": {
   "codemirror_mode": {
    "name": "ipython",
    "version": 3
   },
   "file_extension": ".py",
   "mimetype": "text/x-python",
   "name": "python",
   "nbconvert_exporter": "python",
   "pygments_lexer": "ipython3",
   "version": "3.9.0"
  }
 },
 "nbformat": 4,
 "nbformat_minor": 4
}
